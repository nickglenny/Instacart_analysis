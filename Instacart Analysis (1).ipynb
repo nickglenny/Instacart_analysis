{
 "cells": [
  {
   "cell_type": "markdown",
   "id": "f4ddd569-8510-481c-a401-47a975a49784",
   "metadata": {},
   "source": [
    "# Instacart Data Analysis\n",
    "In this project, I worked with Instacart's datasets to explore and clean order data. The main goals were to identify and remove duplicate entries, analyze specific ordering patterns (like orders placed on Wednesdays at 2:00 AM), and ensure the integrity of the data for further analysis. I loaded the relevant datasets, performed data cleaning steps, and adjusted the notebook by adding/removing duplicate checks and filtering logic."
   ]
  },
  {
   "cell_type": "markdown",
   "id": "07357848-dc64-4156-9cc3-01ff4365226d",
   "metadata": {},
   "source": [
    "## Find and remove duplicate values "
   ]
  },
  {
   "cell_type": "markdown",
   "id": "f179f0a9",
   "metadata": {},
   "source": [
    "### `orders` data frame"
   ]
  },
  {
   "cell_type": "code",
   "execution_count": 1,
   "id": "b99297a5-405a-463d-8535-9adc3da4ad74",
   "metadata": {
    "scrolled": true
   },
   "outputs": [
    {
     "name": "stdout",
     "output_type": "stream",
     "text": [
      "Duplicate Rows: 15\n",
      "Duplicate Order IDs: 15\n"
     ]
    }
   ],
   "source": [
    "# Import the Pandas library\n",
    "import pandas as pd\n",
    "\n",
    "# Set the path for datasets\n",
    "data_path = \"/Users/nickglenny/Instacart Data/\"\n",
    "\n",
    "# Load all the datasets\n",
    "orders_df = pd.read_csv(f\"{data_path}instacart_orders.csv\", delimiter=\";\", encoding=\"utf-8\")\n",
    "products_df = pd.read_csv(f\"{data_path}products.csv\", delimiter=\";\", encoding=\"utf-8\")\n",
    "departments_df = pd.read_csv(f\"{data_path}departments.csv\", delimiter=\";\", encoding=\"utf-8\")\n",
    "order_products_df = pd.read_csv(f\"{data_path}order_products.csv\", delimiter=\";\", encoding=\"utf-8\")\n",
    "aisles_df = pd.read_csv(f\"{data_path}aisles.csv\", delimiter=\";\", encoding=\"utf-8\")\n",
    "\n",
    "\n",
    "# Check for duplicated orders\n",
    "\n",
    "# Check for duplicate rows\n",
    "duplicate_rows_count = orders_df.duplicated().sum()\n",
    "\n",
    "# Check for duplicate order_id values\n",
    "duplicate_order_ids_count = orders_df['order_id'].duplicated().sum()\n",
    "\n",
    "# Print results\n",
    "print(\"Duplicate Rows:\", duplicate_rows_count)\n",
    "print(\"Duplicate Order IDs:\", duplicate_order_ids_count)\n"
   ]
  },
  {
   "cell_type": "code",
   "execution_count": 2,
   "id": "0d44de5d",
   "metadata": {},
   "outputs": [
    {
     "name": "stdout",
     "output_type": "stream",
     "text": [
      "        order_id  user_id  order_number  order_dow  order_hour_of_day  \\\n",
      "1295     1474941   115569             5          2                  2   \n",
      "2391     1640269   173965            15          2                  2   \n",
      "2550     1223696    55276            11          2                  2   \n",
      "5965      579194    85018            14          2                  2   \n",
      "17680    2004230   203121             4          2                  2   \n",
      "...          ...      ...           ...        ...                ...   \n",
      "457660   1562381    19378             5          2                  2   \n",
      "460316   1986084   117453            81          2                  2   \n",
      "462676   1362113    19654            20          2                  2   \n",
      "472800   1746383    88484            19          2                  2   \n",
      "472923   1519815   149345             1          2                  2   \n",
      "\n",
      "        days_since_prior_order  \n",
      "1295                      28.0  \n",
      "2391                       2.0  \n",
      "2550                      30.0  \n",
      "5965                      11.0  \n",
      "17680                      8.0  \n",
      "...                        ...  \n",
      "457660                     6.0  \n",
      "460316                     8.0  \n",
      "462676                    21.0  \n",
      "472800                     5.0  \n",
      "472923                     NaN  \n",
      "\n",
      "[136 rows x 6 columns]\n"
     ]
    }
   ],
   "source": [
    "# Check for all orders placed Wednesday at 2:00 AM\n",
    "\n",
    "# Filter orders placed on Wednesday (order_dow = 2) at 2:00 AM (order_hour_of_day = 2)\n",
    "wednesday_2am_orders = orders_df[(orders_df['order_dow'] == 2) & (orders_df['order_hour_of_day'] == 2)]\n",
    "\n",
    "# Display results\n",
    "print(wednesday_2am_orders)"
   ]
  },
  {
   "cell_type": "code",
   "execution_count": 3,
   "id": "480563c7",
   "metadata": {},
   "outputs": [
    {
     "data": {
      "text/html": [
       "<div>\n",
       "<style scoped>\n",
       "    .dataframe tbody tr th:only-of-type {\n",
       "        vertical-align: middle;\n",
       "    }\n",
       "\n",
       "    .dataframe tbody tr th {\n",
       "        vertical-align: top;\n",
       "    }\n",
       "\n",
       "    .dataframe thead th {\n",
       "        text-align: right;\n",
       "    }\n",
       "</style>\n",
       "<table border=\"1\" class=\"dataframe\">\n",
       "  <thead>\n",
       "    <tr style=\"text-align: right;\">\n",
       "      <th></th>\n",
       "      <th>order_id</th>\n",
       "      <th>user_id</th>\n",
       "      <th>order_number</th>\n",
       "      <th>order_dow</th>\n",
       "      <th>order_hour_of_day</th>\n",
       "      <th>days_since_prior_order</th>\n",
       "    </tr>\n",
       "  </thead>\n",
       "  <tbody>\n",
       "    <tr>\n",
       "      <th>0</th>\n",
       "      <td>1515936</td>\n",
       "      <td>183418</td>\n",
       "      <td>11</td>\n",
       "      <td>6</td>\n",
       "      <td>13</td>\n",
       "      <td>30.0</td>\n",
       "    </tr>\n",
       "    <tr>\n",
       "      <th>1</th>\n",
       "      <td>1690866</td>\n",
       "      <td>163593</td>\n",
       "      <td>5</td>\n",
       "      <td>5</td>\n",
       "      <td>12</td>\n",
       "      <td>9.0</td>\n",
       "    </tr>\n",
       "    <tr>\n",
       "      <th>2</th>\n",
       "      <td>1454967</td>\n",
       "      <td>39980</td>\n",
       "      <td>4</td>\n",
       "      <td>5</td>\n",
       "      <td>19</td>\n",
       "      <td>2.0</td>\n",
       "    </tr>\n",
       "    <tr>\n",
       "      <th>3</th>\n",
       "      <td>1768857</td>\n",
       "      <td>82516</td>\n",
       "      <td>56</td>\n",
       "      <td>0</td>\n",
       "      <td>20</td>\n",
       "      <td>10.0</td>\n",
       "    </tr>\n",
       "    <tr>\n",
       "      <th>4</th>\n",
       "      <td>3007858</td>\n",
       "      <td>196724</td>\n",
       "      <td>2</td>\n",
       "      <td>4</td>\n",
       "      <td>12</td>\n",
       "      <td>17.0</td>\n",
       "    </tr>\n",
       "  </tbody>\n",
       "</table>\n",
       "</div>"
      ],
      "text/plain": [
       "   order_id  user_id  order_number  order_dow  order_hour_of_day  \\\n",
       "0   1515936   183418            11          6                 13   \n",
       "1   1690866   163593             5          5                 12   \n",
       "2   1454967    39980             4          5                 19   \n",
       "3   1768857    82516            56          0                 20   \n",
       "4   3007858   196724             2          4                 12   \n",
       "\n",
       "   days_since_prior_order  \n",
       "0                    30.0  \n",
       "1                     9.0  \n",
       "2                     2.0  \n",
       "3                    10.0  \n",
       "4                    17.0  "
      ]
     },
     "execution_count": 3,
     "metadata": {},
     "output_type": "execute_result"
    }
   ],
   "source": [
    "# Remove duplicate orders\n",
    "\n",
    "# Remove duplicate orders, using 'order_id'\n",
    "orders_df_no_duplicates = orders_df.drop_duplicates(subset=['order_id'])\n",
    "\n",
    "# Display the cleaned dataset\n",
    "orders_df_no_duplicates.head()"
   ]
  },
  {
   "cell_type": "code",
   "execution_count": 4,
   "id": "0b2396a2",
   "metadata": {},
   "outputs": [
    {
     "data": {
      "text/plain": [
       "np.int64(0)"
      ]
     },
     "execution_count": 4,
     "metadata": {},
     "output_type": "execute_result"
    }
   ],
   "source": [
    "# Double check for duplicate rows\n",
    "duplicate_rows = orders_df_no_duplicates.duplicated().sum()\n",
    "\n",
    "# Display the total number of duplicate rows found\n",
    "duplicate_rows\n"
   ]
  },
  {
   "cell_type": "code",
   "execution_count": 5,
   "id": "f6113ef1",
   "metadata": {},
   "outputs": [
    {
     "data": {
      "text/plain": [
       "np.int64(0)"
      ]
     },
     "execution_count": 5,
     "metadata": {},
     "output_type": "execute_result"
    }
   ],
   "source": [
    "# Double check for duplicate order IDs only\n",
    "duplicate_order_ids_cleaned = orders_df_no_duplicates.duplicated(subset=['order_id']).sum()\n",
    "\n",
    "# Display the number of duplicate order IDs found in the cleaned dataset\n",
    "duplicate_order_ids_cleaned\n"
   ]
  },
  {
   "cell_type": "markdown",
   "id": "45e6bc46",
   "metadata": {},
   "source": [
    "### `products` data frame"
   ]
  },
  {
   "cell_type": "code",
   "execution_count": 6,
   "id": "5f526b5b-8175-46fa-a0fd-441767d50e64",
   "metadata": {},
   "outputs": [
    {
     "data": {
      "text/plain": [
       "np.int64(0)"
      ]
     },
     "execution_count": 6,
     "metadata": {},
     "output_type": "execute_result"
    }
   ],
   "source": [
    "# Check for fully duplicate rows\n",
    "\n",
    "\n",
    "\n",
    "# Check for fully duplicate rows\n",
    "duplicate_rows_count = products_df.duplicated().sum()\n",
    "\n",
    "# Display the number of fully duplicate rows found\n",
    "duplicate_rows_count\n"
   ]
  },
  {
   "cell_type": "code",
   "execution_count": 7,
   "id": "88daa4f4",
   "metadata": {},
   "outputs": [
    {
     "data": {
      "text/plain": [
       "np.int64(0)"
      ]
     },
     "execution_count": 7,
     "metadata": {},
     "output_type": "execute_result"
    }
   ],
   "source": [
    "# Check for just duplicate product IDs\n",
    "duplicate_product_ids_count = products_df.duplicated(subset=['product_id']).sum()\n",
    "\n",
    "# Display the number of duplicate product IDs found\n",
    "duplicate_product_ids_count\n"
   ]
  },
  {
   "cell_type": "code",
   "execution_count": 8,
   "id": "c773f0bf",
   "metadata": {},
   "outputs": [
    {
     "data": {
      "text/plain": [
       "np.int64(1258)"
      ]
     },
     "execution_count": 8,
     "metadata": {},
     "output_type": "execute_result"
    }
   ],
   "source": [
    "# Check for just duplicate product names (convert names to lowercase to compare better)\n",
    "duplicate_product_names_count = products_df.duplicated(subset=['product_name'], keep=False).sum()\n",
    "\n",
    "# Display the number of duplicate product names found\n",
    "duplicate_product_names_count\n"
   ]
  },
  {
   "cell_type": "code",
   "execution_count": 9,
   "id": "01efd02e",
   "metadata": {},
   "outputs": [
    {
     "data": {
      "text/plain": [
       "np.int64(0)"
      ]
     },
     "execution_count": 9,
     "metadata": {},
     "output_type": "execute_result"
    }
   ],
   "source": [
    "# Check for duplicate product names that aren't missing\n",
    "non_missing_duplicate_product_names_count = products_df[products_df['product_name'].notna()] \\\n",
    "    .duplicated(subset=['product_name'], keep=False).sum()\n",
    "\n",
    "# Display the number of duplicate product names that are not missing\n",
    "non_missing_duplicate_product_names_count\n"
   ]
  },
  {
   "cell_type": "markdown",
   "id": "60f30db1",
   "metadata": {},
   "source": [
    "### `departments` data frame"
   ]
  },
  {
   "cell_type": "code",
   "execution_count": 10,
   "id": "fb410ad4-0fbf-4b80-bb09-23fdea79afe3",
   "metadata": {},
   "outputs": [
    {
     "name": "stdout",
     "output_type": "stream",
     "text": [
      "<class 'pandas.core.frame.DataFrame'>\n",
      "RangeIndex: 21 entries, 0 to 20\n",
      "Data columns (total 2 columns):\n",
      " #   Column         Non-Null Count  Dtype \n",
      "---  ------         --------------  ----- \n",
      " 0   department_id  21 non-null     int64 \n",
      " 1   department     21 non-null     object\n",
      "dtypes: int64(1), object(1)\n",
      "memory usage: 468.0+ bytes\n",
      "<class 'pandas.core.frame.DataFrame'>\n",
      "RangeIndex: 21 entries, 0 to 20\n",
      "Data columns (total 2 columns):\n",
      " #   Column         Non-Null Count  Dtype \n",
      "---  ------         --------------  ----- \n",
      " 0   department_id  21 non-null     int64 \n",
      " 1   department     21 non-null     object\n",
      "dtypes: int64(1), object(1)\n",
      "memory usage: 468.0+ bytes\n"
     ]
    },
    {
     "data": {
      "text/plain": [
       "(None,\n",
       " department_id    0\n",
       " department       0\n",
       " dtype: int64,\n",
       " np.int64(0),\n",
       " None)"
      ]
     },
     "execution_count": 10,
     "metadata": {},
     "output_type": "execute_result"
    }
   ],
   "source": [
    "# Although this data frame ended up being clean, as good practice I prepared the data for analysis \n",
    "\n",
    "# Verifying dataset is clean by checking data types, identifying missing values, and checking and removing duplicate values\n",
    "\n",
    "# Display initial info about data types and missing values\n",
    "departments_info = departments_df.info()\n",
    "\n",
    "# Check for missing values\n",
    "missing_values = departments_df.isnull().sum()\n",
    "\n",
    "# Check for duplicate rows\n",
    "duplicate_rows_count = departments_df.duplicated().sum()\n",
    "\n",
    "# Convert department_id to integer, if needed (it was not)\n",
    "if not pd.api.types.is_integer_dtype(departments_df[\"department_id\"]):\n",
    "    departments_df[\"department_id\"] = pd.to_numeric(departments_df[\"department_id\"], errors=\"coerce\").astype(\"Int64\")\n",
    "\n",
    "# Fill missing values (if any) with appropriate placeholders\n",
    "departments_df.fillna({\"department\": \"Unknown\"}, inplace=True)\n",
    "\n",
    "# Remove duplicate rows\n",
    "departments_df = departments_df.drop_duplicates()\n",
    "\n",
    "# Display cleaned dataset info\n",
    "cleaned_departments_info = departments_df.info()\n",
    "\n",
    "# Show the cleaned dataset\n",
    "departments_df.head()\n",
    "\n",
    "\n",
    "# Verify findings\n",
    "departments_info, missing_values, duplicate_rows_count, cleaned_departments_info\n"
   ]
  },
  {
   "cell_type": "markdown",
   "id": "889349c1",
   "metadata": {},
   "source": [
    "### `aisles` data frame"
   ]
  },
  {
   "cell_type": "code",
   "execution_count": 11,
   "id": "9da89fb9-4679-40f5-ad0d-c34df753a3f8",
   "metadata": {},
   "outputs": [
    {
     "name": "stdout",
     "output_type": "stream",
     "text": [
      "<class 'pandas.core.frame.DataFrame'>\n",
      "RangeIndex: 134 entries, 0 to 133\n",
      "Data columns (total 2 columns):\n",
      " #   Column    Non-Null Count  Dtype \n",
      "---  ------    --------------  ----- \n",
      " 0   aisle_id  134 non-null    int64 \n",
      " 1   aisle     134 non-null    object\n",
      "dtypes: int64(1), object(1)\n",
      "memory usage: 2.2+ KB\n",
      "<class 'pandas.core.frame.DataFrame'>\n",
      "RangeIndex: 134 entries, 0 to 133\n",
      "Data columns (total 2 columns):\n",
      " #   Column    Non-Null Count  Dtype \n",
      "---  ------    --------------  ----- \n",
      " 0   aisle_id  134 non-null    int64 \n",
      " 1   aisle     134 non-null    object\n",
      "dtypes: int64(1), object(1)\n",
      "memory usage: 2.2+ KB\n"
     ]
    },
    {
     "data": {
      "text/plain": [
       "(   aisle_id                       aisle\n",
       " 0         1       prepared soups salads\n",
       " 1         2           specialty cheeses\n",
       " 2         3         energy granola bars\n",
       " 3         4               instant foods\n",
       " 4         5  marinades meat preparation,\n",
       " None,\n",
       " aisle_id    0\n",
       " aisle       0\n",
       " dtype: int64,\n",
       " np.int64(0),\n",
       " None,\n",
       " aisle_id    0\n",
       " aisle       0\n",
       " dtype: int64,\n",
       " np.int64(0))"
      ]
     },
     "execution_count": 11,
     "metadata": {},
     "output_type": "execute_result"
    }
   ],
   "source": [
    "\n",
    "# Display initial info about data types and missing values\n",
    "aisles_info_before = aisles_df.info()\n",
    "\n",
    "# Check for missing values\n",
    "missing_values_before = aisles_df.isnull().sum()\n",
    "\n",
    "# Check for duplicate rows\n",
    "duplicate_rows_count_before = aisles_df.duplicated().sum()\n",
    "\n",
    "# Convert aisle_id to integer if needed\n",
    "if not pd.api.types.is_integer_dtype(aisles_df[\"aisle_id\"]):\n",
    "    aisles_df[\"aisle_id\"] = pd.to_numeric(aisles_df[\"aisle_id\"], errors=\"coerce\").astype(\"Int64\")\n",
    "\n",
    "# Fill missing values (if any) with appropriate placeholders\n",
    "aisles_df.fillna({\"aisle\": \"Unknown\"}, inplace=True)\n",
    "\n",
    "# Remove duplicate rows\n",
    "aisles_df = aisles_df.drop_duplicates()\n",
    "\n",
    "# Display cleaned dataset info\n",
    "aisles_info_after = aisles_df.info()\n",
    "\n",
    "# Check for missing values and duplicates after cleaning\n",
    "missing_values_after = aisles_df.isnull().sum()\n",
    "duplicate_rows_count_after = aisles_df.duplicated().sum()\n",
    "\n",
    "# Display the cleaned aisles dataset\n",
    "aisles_df.head(), aisles_info_before, missing_values_before, duplicate_rows_count_before, aisles_info_after, missing_values_after, duplicate_rows_count_after\n"
   ]
  },
  {
   "cell_type": "markdown",
   "id": "274cd06a",
   "metadata": {},
   "source": [
    "### `order_products` data frame"
   ]
  },
  {
   "cell_type": "code",
   "execution_count": 12,
   "id": "52326689-84a8-4b8f-a881-7c68780f62c9",
   "metadata": {},
   "outputs": [
    {
     "data": {
      "text/plain": [
       "(   order_id  product_id  add_to_cart_order  reordered\n",
       " 0   2141543       11440               17.0          0\n",
       " 1    567889        1560                1.0          1\n",
       " 2   2261212       26683                1.0          1\n",
       " 3    491251        8670               35.0          1\n",
       " 4   2571142        1940                5.0          1,\n",
       " np.int64(0),\n",
       " np.int64(0))"
      ]
     },
     "execution_count": 12,
     "metadata": {},
     "output_type": "execute_result"
    }
   ],
   "source": [
    "# Check for fully duplicate rows\n",
    "\n",
    "\n",
    "\n",
    "# Check for duplicate rows\n",
    "duplicate_rows_count_before = order_products_df.duplicated().sum()\n",
    "\n",
    "# Drop duplicate rows\n",
    "order_products_df = order_products_df.drop_duplicates()\n",
    "duplicate_rows_count_after = order_products_df.duplicated().sum()\n",
    "3\n",
    "# Verify the new dataset\n",
    "order_products_df.head(), duplicate_rows_count_before, duplicate_rows_count_after"
   ]
  },
  {
   "cell_type": "code",
   "execution_count": 13,
   "id": "7b861391",
   "metadata": {},
   "outputs": [
    {
     "name": "stdout",
     "output_type": "stream",
     "text": [
      "Number of unique order_ids that have more than one product: 450046\n",
      "Number of duplicate (order_id, product_id) pairs: 0\n"
     ]
    },
    {
     "data": {
      "text/html": [
       "<div>\n",
       "<style scoped>\n",
       "    .dataframe tbody tr th:only-of-type {\n",
       "        vertical-align: middle;\n",
       "    }\n",
       "\n",
       "    .dataframe tbody tr th {\n",
       "        vertical-align: top;\n",
       "    }\n",
       "\n",
       "    .dataframe thead th {\n",
       "        text-align: right;\n",
       "    }\n",
       "</style>\n",
       "<table border=\"1\" class=\"dataframe\">\n",
       "  <thead>\n",
       "    <tr style=\"text-align: right;\">\n",
       "      <th></th>\n",
       "      <th>order_id</th>\n",
       "      <th>product_id</th>\n",
       "      <th>add_to_cart_order</th>\n",
       "      <th>reordered</th>\n",
       "    </tr>\n",
       "  </thead>\n",
       "  <tbody>\n",
       "  </tbody>\n",
       "</table>\n",
       "</div>"
      ],
      "text/plain": [
       "Empty DataFrame\n",
       "Columns: [order_id, product_id, add_to_cart_order, reordered]\n",
       "Index: []"
      ]
     },
     "execution_count": 13,
     "metadata": {},
     "output_type": "execute_result"
    }
   ],
   "source": [
    "# Count the occurrences of each order_id and filter those that appear more than once\n",
    "duplicate_order_id_counts = order_products_df['order_id'].value_counts()\n",
    "num_duplicate_order_ids = (duplicate_order_id_counts > 1).count()\n",
    "\n",
    "print(\"Number of unique order_ids that have more than one product:\", num_duplicate_order_ids)\n",
    "\n",
    "# Check for duplicate rows based on both order_id and product_id\n",
    "duplicate_order_product_pairs = order_products_df[order_products_df.duplicated(subset=['order_id', 'product_id'])]\n",
    "\n",
    "# Display how many such duplicate pairs exist\n",
    "print(\"Number of duplicate (order_id, product_id) pairs:\", len(duplicate_order_product_pairs))\n",
    "\n",
    "# Display the first few for inspection\n",
    "duplicate_order_product_pairs.head()\n"
   ]
  },
  {
   "cell_type": "markdown",
   "id": "1e46de76",
   "metadata": {},
   "source": [
    "## Find and remove missing values\n"
   ]
  },
  {
   "cell_type": "markdown",
   "id": "c0aebd78",
   "metadata": {},
   "source": [
    "### `products` data frame"
   ]
  },
  {
   "cell_type": "code",
   "execution_count": 14,
   "id": "fe4a8b0f",
   "metadata": {},
   "outputs": [
    {
     "name": "stdout",
     "output_type": "stream",
     "text": [
      "<class 'pandas.core.frame.DataFrame'>\n",
      "RangeIndex: 49694 entries, 0 to 49693\n",
      "Data columns (total 4 columns):\n",
      " #   Column         Non-Null Count  Dtype \n",
      "---  ------         --------------  ----- \n",
      " 0   product_id     49694 non-null  int64 \n",
      " 1   product_name   48436 non-null  object\n",
      " 2   aisle_id       49694 non-null  int64 \n",
      " 3   department_id  49694 non-null  int64 \n",
      "dtypes: int64(3), object(1)\n",
      "memory usage: 1.5+ MB\n",
      "<class 'pandas.core.frame.DataFrame'>\n",
      "RangeIndex: 49694 entries, 0 to 49693\n",
      "Data columns (total 4 columns):\n",
      " #   Column         Non-Null Count  Dtype \n",
      "---  ------         --------------  ----- \n",
      " 0   product_id     49694 non-null  int64 \n",
      " 1   product_name   49694 non-null  object\n",
      " 2   aisle_id       49694 non-null  int64 \n",
      " 3   department_id  49694 non-null  int64 \n",
      "dtypes: int64(3), object(1)\n",
      "memory usage: 1.5+ MB\n"
     ]
    },
    {
     "name": "stderr",
     "output_type": "stream",
     "text": [
      "/var/folders/p8/v7kb_56x1ld4fjv3qstdhzjh0000gn/T/ipykernel_6646/2271603280.py:17: FutureWarning: A value is trying to be set on a copy of a DataFrame or Series through chained assignment using an inplace method.\n",
      "The behavior will change in pandas 3.0. This inplace method will never work because the intermediate object on which we are setting values always behaves as a copy.\n",
      "\n",
      "For example, when doing 'df[col].method(value, inplace=True)', try using 'df.method({col: value}, inplace=True)' or df[col] = df[col].method(value) instead, to perform the operation inplace on the original object.\n",
      "\n",
      "\n",
      "  products_df[\"product_name\"].fillna(\"Unknown Product\", inplace=True)\n"
     ]
    },
    {
     "data": {
      "text/plain": [
       "(   product_id                                       product_name  aisle_id  \\\n",
       " 0           1                         Chocolate Sandwich Cookies        61   \n",
       " 1           2                                   All-Seasons Salt       104   \n",
       " 2           3               Robust Golden Unsweetened Oolong Tea        94   \n",
       " 3           4  Smart Ones Classic Favorites Mini Rigatoni Wit...        38   \n",
       " 4           5                          Green Chile Anytime Sauce         5   \n",
       " \n",
       "    department_id  \n",
       " 0             19  \n",
       " 1             13  \n",
       " 2              7  \n",
       " 3              1  \n",
       " 4             13  ,\n",
       " None,\n",
       " product_id          0\n",
       " product_name     1258\n",
       " aisle_id            0\n",
       " department_id       0\n",
       " dtype: int64,\n",
       " np.int64(0),\n",
       " None,\n",
       " product_id       0\n",
       " product_name     0\n",
       " aisle_id         0\n",
       " department_id    0\n",
       " dtype: int64,\n",
       " np.int64(0))"
      ]
     },
     "execution_count": 14,
     "metadata": {},
     "output_type": "execute_result"
    }
   ],
   "source": [
    "# Display initial info about data types and missing values\n",
    "products_info_before = products_df.info()\n",
    "\n",
    "# Check for missing values before cleaning\n",
    "missing_values_before = products_df.isnull().sum()\n",
    "\n",
    "# Check for duplicate rows before cleaning\n",
    "duplicate_rows_count_before = products_df.duplicated().sum()\n",
    "\n",
    "# Convert ID columns to integer if needed\n",
    "id_columns = [\"product_id\", \"aisle_id\", \"department_id\"]\n",
    "for col in id_columns:\n",
    "    if not pd.api.types.is_integer_dtype(products_df[col]):\n",
    "        products_df[col] = pd.to_numeric(products_df[col], errors=\"coerce\").astype(\"Int64\")\n",
    "\n",
    "# Fill missing product names with a placeholder\n",
    "products_df[\"product_name\"].fillna(\"Unknown Product\", inplace=True)\n",
    "\n",
    "# Remove duplicate rows\n",
    "products_df = products_df.drop_duplicates()\n",
    "\n",
    "# Display cleaned dataset info\n",
    "products_info_after = products_df.info()\n",
    "\n",
    "# Check for missing values and duplicates after cleaning\n",
    "missing_values_after = products_df.isnull().sum()\n",
    "duplicate_rows_count_after = products_df.duplicated().sum()\n",
    "\n",
    "# Display the cleaned products dataset\n",
    "products_df.head(), products_info_before, missing_values_before, duplicate_rows_count_before, products_info_after, missing_values_after, duplicate_rows_count_after\n",
    "\n"
   ]
  },
  {
   "cell_type": "code",
   "execution_count": 15,
   "id": "e96167bc",
   "metadata": {},
   "outputs": [
    {
     "data": {
      "text/plain": [
       "np.True_"
      ]
     },
     "execution_count": 15,
     "metadata": {},
     "output_type": "execute_result"
    }
   ],
   "source": [
    "# Are all of the missing product names associated with aisle ID 100?\n",
    "\n",
    "# Check if all missing product names are associated with aisle ID 100\n",
    "missing_product_names = products_df[products_df['product_name'].isna()]\n",
    "missing_product_names_aisle_100 = (missing_product_names['aisle_id'] == 100).all()\n",
    "\n",
    "# Display the result\n",
    "missing_product_names_aisle_100\n",
    "\n"
   ]
  },
  {
   "cell_type": "code",
   "execution_count": 16,
   "id": "8fd0a541",
   "metadata": {
    "scrolled": true
   },
   "outputs": [
    {
     "data": {
      "text/plain": [
       "np.True_"
      ]
     },
     "execution_count": 16,
     "metadata": {},
     "output_type": "execute_result"
    }
   ],
   "source": [
    "# Are all of the missing product names associated with department ID 21?\n",
    "\n",
    "# Check if all missing product names were originally associated with department ID 21\n",
    "missing_product_names = products_df[products_df['product_name'] == \"Unknown Product\"]\n",
    "missing_product_names_department_21 = (missing_product_names['department_id'] == 21).all()\n",
    "\n",
    "# Display the result\n",
    "missing_product_names_department_21\n"
   ]
  },
  {
   "cell_type": "code",
   "execution_count": 17,
   "id": "325c3464",
   "metadata": {},
   "outputs": [],
   "source": [
    "# What is this aisle and department?\n",
    "# Aisle 100 as well as department 21 are missing in their respective dataframes as well."
   ]
  },
  {
   "cell_type": "code",
   "execution_count": 35,
   "id": "6b295120",
   "metadata": {},
   "outputs": [
    {
     "ename": "SyntaxError",
     "evalue": "invalid syntax (2715853217.py, line 3)",
     "output_type": "error",
     "traceback": [
      "  \u001b[36mCell\u001b[39m\u001b[36m \u001b[39m\u001b[32mIn[35]\u001b[39m\u001b[32m, line 3\u001b[39m\n\u001b[31m    \u001b[39m\u001b[31mproducts_df{\"product_name\"}.fillna(\"Unknown\", inplace=True)\u001b[39m\n               ^\n\u001b[31mSyntaxError\u001b[39m\u001b[31m:\u001b[39m invalid syntax\n"
     ]
    }
   ],
   "source": [
    "# Fill missing product names with 'Unknown'\n",
    "\n",
    "products_df[\"product_name\"}.fillna(\"Unknown\", inplace=True)\n",
    "\n"
   ]
  },
  {
   "cell_type": "markdown",
   "id": "7eb45c86",
   "metadata": {},
   "source": [
    "### `orders` data frame"
   ]
  },
  {
   "cell_type": "code",
   "execution_count": 19,
   "id": "166e5a86",
   "metadata": {},
   "outputs": [
    {
     "data": {
      "text/plain": [
       "0"
      ]
     },
     "execution_count": 19,
     "metadata": {},
     "output_type": "execute_result"
    }
   ],
   "source": [
    "# Are there any missing values where it's not a customer's first order?\n",
    "\n",
    "# Check for missing values in \"days_since_prior_order\" where it's not the customer's first order\n",
    "missing_values_not_first_order = orders_df[(orders_df['order_number'] > 1) & (orders_df['days_since_prior_order'].isna())]\n",
    "\n",
    "# Count the number of such missing values\n",
    "missing_values_not_first_order_count = missing_values_not_first_order.shape[0]\n",
    "\n",
    "# Display the result\n",
    "missing_values_not_first_order_count\n"
   ]
  },
  {
   "cell_type": "markdown",
   "id": "69dc9ca4",
   "metadata": {},
   "source": [
    "### `order_products` data frame"
   ]
  },
  {
   "cell_type": "code",
   "execution_count": 20,
   "id": "9a78e5ee",
   "metadata": {},
   "outputs": [
    {
     "data": {
      "text/plain": [
       "(np.int64(4), np.int64(3421079))"
      ]
     },
     "execution_count": 20,
     "metadata": {},
     "output_type": "execute_result"
    }
   ],
   "source": [
    "# What are the min and max values in this column?\n",
    "# Get the minimum and maximum values in the 'order_id' column, as it contains the highest and lowest values\n",
    "min_order_id = order_products_df['order_id'].min()\n",
    "max_order_id = order_products_df['order_id'].max()\n",
    "\n",
    "# Display the results\n",
    "min_order_id, max_order_id\n",
    "\n"
   ]
  },
  {
   "cell_type": "code",
   "execution_count": 21,
   "id": "942e7c67",
   "metadata": {},
   "outputs": [
    {
     "data": {
      "text/html": [
       "<div>\n",
       "<style scoped>\n",
       "    .dataframe tbody tr th:only-of-type {\n",
       "        vertical-align: middle;\n",
       "    }\n",
       "\n",
       "    .dataframe tbody tr th {\n",
       "        vertical-align: top;\n",
       "    }\n",
       "\n",
       "    .dataframe thead th {\n",
       "        text-align: right;\n",
       "    }\n",
       "</style>\n",
       "<table border=\"1\" class=\"dataframe\">\n",
       "  <thead>\n",
       "    <tr style=\"text-align: right;\">\n",
       "      <th></th>\n",
       "      <th>order_id</th>\n",
       "    </tr>\n",
       "  </thead>\n",
       "  <tbody>\n",
       "    <tr>\n",
       "      <th>0</th>\n",
       "      <td>2449164</td>\n",
       "    </tr>\n",
       "    <tr>\n",
       "      <th>1</th>\n",
       "      <td>1968313</td>\n",
       "    </tr>\n",
       "    <tr>\n",
       "      <th>2</th>\n",
       "      <td>2926893</td>\n",
       "    </tr>\n",
       "    <tr>\n",
       "      <th>3</th>\n",
       "      <td>1717990</td>\n",
       "    </tr>\n",
       "    <tr>\n",
       "      <th>4</th>\n",
       "      <td>1959075</td>\n",
       "    </tr>\n",
       "  </tbody>\n",
       "</table>\n",
       "</div>"
      ],
      "text/plain": [
       "   order_id\n",
       "0   2449164\n",
       "1   1968313\n",
       "2   2926893\n",
       "3   1717990\n",
       "4   1959075"
      ]
     },
     "execution_count": 21,
     "metadata": {},
     "output_type": "execute_result"
    }
   ],
   "source": [
    "# Save all order IDs with at least one missing value in 'add_to_cart_order'\n",
    "\n",
    "# Filter order IDs where 'add_to_cart_order' has missing values\n",
    "orders_with_missing_add_to_cart = order_products_df[order_products_df['add_to_cart_order'].isna()]['order_id'].unique()\n",
    "\n",
    "# Save the order IDs to a variable\n",
    "orders_with_missing_add_to_cart_df = pd.DataFrame(orders_with_missing_add_to_cart, columns=['order_id'])\n",
    "\n",
    "# Display our order IDs with missing values\n",
    "orders_with_missing_add_to_cart_df.head()\n"
   ]
  },
  {
   "cell_type": "code",
   "execution_count": 22,
   "id": "54c31695",
   "metadata": {},
   "outputs": [
    {
     "data": {
      "text/plain": [
       "(np.False_,\n",
       " order_id\n",
       " 61355      63\n",
       " 3308010    51\n",
       " 2136777    44\n",
       " 171934     40\n",
       " 1959075    34\n",
       " dtype: int64)"
      ]
     },
     "execution_count": 22,
     "metadata": {},
     "output_type": "execute_result"
    }
   ],
   "source": [
    "# Replace missing values with 999 and convert to integer type\n",
    "order_products_df = order_products_df.fillna(999).astype(int)\n",
    "\n",
    "# Filter rows where 'add_to_cart_order' was originally missing (now marked as 999)\n",
    "missing_rows = order_products_df[order_products_df['add_to_cart_order'] == 999]\n",
    "\n",
    "# Count the number of products in each order with missing values\n",
    "product_counts_missing = missing_rows.groupby('order_id').size()\n",
    "\n",
    "# Check if all such orders have more than 64 products\n",
    "all_over_64 = (product_counts_missing > 64).all()\n",
    "\n",
    "# Return the result and some examples\n",
    "all_over_64, product_counts_missing.sort_values(ascending=False).head()\n"
   ]
  },
  {
   "cell_type": "code",
   "execution_count": 23,
   "id": "7a987d08",
   "metadata": {},
   "outputs": [
    {
     "data": {
      "text/html": [
       "<div>\n",
       "<style scoped>\n",
       "    .dataframe tbody tr th:only-of-type {\n",
       "        vertical-align: middle;\n",
       "    }\n",
       "\n",
       "    .dataframe tbody tr th {\n",
       "        vertical-align: top;\n",
       "    }\n",
       "\n",
       "    .dataframe thead th {\n",
       "        text-align: right;\n",
       "    }\n",
       "</style>\n",
       "<table border=\"1\" class=\"dataframe\">\n",
       "  <thead>\n",
       "    <tr style=\"text-align: right;\">\n",
       "      <th></th>\n",
       "      <th>order_id</th>\n",
       "      <th>product_id</th>\n",
       "      <th>add_to_cart_order</th>\n",
       "      <th>reordered</th>\n",
       "    </tr>\n",
       "  </thead>\n",
       "  <tbody>\n",
       "    <tr>\n",
       "      <th>737</th>\n",
       "      <td>2449164</td>\n",
       "      <td>5068</td>\n",
       "      <td>999</td>\n",
       "      <td>0</td>\n",
       "    </tr>\n",
       "    <tr>\n",
       "      <th>9926</th>\n",
       "      <td>1968313</td>\n",
       "      <td>43867</td>\n",
       "      <td>999</td>\n",
       "      <td>0</td>\n",
       "    </tr>\n",
       "    <tr>\n",
       "      <th>14394</th>\n",
       "      <td>2926893</td>\n",
       "      <td>11688</td>\n",
       "      <td>999</td>\n",
       "      <td>0</td>\n",
       "    </tr>\n",
       "    <tr>\n",
       "      <th>16418</th>\n",
       "      <td>1717990</td>\n",
       "      <td>4142</td>\n",
       "      <td>999</td>\n",
       "      <td>0</td>\n",
       "    </tr>\n",
       "    <tr>\n",
       "      <th>30114</th>\n",
       "      <td>1959075</td>\n",
       "      <td>42828</td>\n",
       "      <td>999</td>\n",
       "      <td>1</td>\n",
       "    </tr>\n",
       "  </tbody>\n",
       "</table>\n",
       "</div>"
      ],
      "text/plain": [
       "       order_id  product_id  add_to_cart_order  reordered\n",
       "737     2449164        5068                999          0\n",
       "9926    1968313       43867                999          0\n",
       "14394   2926893       11688                999          0\n",
       "16418   1717990        4142                999          0\n",
       "30114   1959075       42828                999          1"
      ]
     },
     "execution_count": 23,
     "metadata": {},
     "output_type": "execute_result"
    }
   ],
   "source": [
    "# Replace missing values with 999 and convert column to integer type\n",
    "\n",
    "order_products_df = order_products_df.fillna(999).astype(int)\n",
    "\n",
    "# Display the first few rows with the new \"999\" value to verify changes\n",
    "missing_values_df = order_products_df[order_products_df['add_to_cart_order'] == 999]\n",
    "\n",
    "# Display a few rows where 'add_to_cart_order' has the value 999 (previously missing values)\n",
    "missing_values_df.head()\n",
    "\n",
    "\n",
    "\n"
   ]
  },
  {
   "cell_type": "markdown",
   "id": "short-capability",
   "metadata": {},
   "source": [
    "### [A1] Verify that the `'order_hour_of_day'` and `'order_dow'` values in the `orders` tables are sensible (i.e. `'order_hour_of_day'` ranges from 0 to 23 and `'order_dow'` ranges from 0 to 6)"
   ]
  },
  {
   "cell_type": "code",
   "execution_count": 24,
   "id": "growing-fruit",
   "metadata": {},
   "outputs": [
    {
     "data": {
      "text/plain": [
       "(np.True_, np.True_)"
      ]
     },
     "execution_count": 24,
     "metadata": {},
     "output_type": "execute_result"
    }
   ],
   "source": [
    "# Check the range of values in 'order_hour_of_day' and 'order_dow'\n",
    "order_hour_valid_range = orders_df['order_hour_of_day'].between(0, 23).all()\n",
    "order_dow_valid_range = orders_df['order_dow'].between(0, 6).all()\n",
    "\n",
    "# Display the results\n",
    "order_hour_valid_range, order_dow_valid_range\n"
   ]
  },
  {
   "cell_type": "markdown",
   "id": "a6743a70",
   "metadata": {},
   "source": [
    "### [A2] What time of day do people shop for groceries?"
   ]
  },
  {
   "cell_type": "code",
   "execution_count": 25,
   "id": "a36cca27",
   "metadata": {},
   "outputs": [
    {
     "name": "stderr",
     "output_type": "stream",
     "text": [
      "Matplotlib is building the font cache; this may take a moment.\n"
     ]
    },
    {
     "data": {
      "image/png": "[encoded data removed]",
      "text/plain": [
       "<Figure size 1000x500 with 1 Axes>"
      ]
     },
     "metadata": {},
     "output_type": "display_data"
    }
   ],
   "source": [
    "# Create a graph to vizualize what time of day people are shopping\n",
    "import matplotlib.pyplot as plt\n",
    "\n",
    "# Create a plot showing the number of orders for each hour of the day\n",
    "plt.figure(figsize=(10,5))\n",
    "orders_df['order_hour_of_day'].value_counts().sort_index().plot(kind='bar')\n",
    "\n",
    "# Formatting the plot\n",
    "plt.xlabel('Hour of the Day')\n",
    "plt.ylabel('Number of Orders')\n",
    "plt.title('Number of Orders by Hour of the Day')\n",
    "plt.xticks(rotation=0)\n",
    "plt.grid(axis='y', linestyle='--', alpha=0.7)\n",
    "\n",
    "# Show the plot\n",
    "plt.show()\n"
   ]
  },
  {
   "cell_type": "markdown",
   "id": "59ebdb59",
   "metadata": {},
   "source": [
    "<b>Insights from this graph:</b>\n",
    "This graph shows the distribution of orders throughout the day. Orders start picking up around 9am, and remain steady until about 5pm. There is a signifigantly smaller amount of orders between 10pm and 6am, which could be useful to the Instacart team when deciding when to push certain advertisements or marketing campaigns.\n",
    "There is a clear peak between 10am - 4pm, which again could be useful for deciding when to push certain campaigns."
   ]
  },
  {
   "cell_type": "markdown",
   "id": "documented-command",
   "metadata": {},
   "source": [
    "### [A3] What day of the week do people shop for groceries?"
   ]
  },
  {
   "cell_type": "code",
   "execution_count": 26,
   "id": "chief-digit",
   "metadata": {},
   "outputs": [
    {
     "data": {
      "image/png": "[encoded data removed]",
      "text/plain": [
       "<Figure size 1000x500 with 1 Axes>"
      ]
     },
     "metadata": {},
     "output_type": "display_data"
    }
   ],
   "source": [
    "# Create a plot showing the number of orders for each day of the week\n",
    "plt.figure(figsize=(10,5))\n",
    "orders_df['order_dow'].value_counts().sort_index().plot(kind='bar')\n",
    "\n",
    "# Formatting the plot\n",
    "plt.xlabel('Day of the Week (0 = Monday, 6 = Sunday)')\n",
    "plt.ylabel('Number of Orders')\n",
    "plt.title('Number of Orders by Day of the Week')\n",
    "plt.xticks(rotation=0)\n",
    "plt.grid(axis='y', linestyle='--', alpha=0.7)\n",
    "\n",
    "# Show the plot\n",
    "plt.show()\n"
   ]
  },
  {
   "cell_type": "markdown",
   "id": "dominant-lightning",
   "metadata": {},
   "source": [
    "<b>Insights from this data:</b> This chart shows the distribution of orders by day of the week. It is clear more people order grocery at the beginning of the week, similar to how people shop in stores to prepare for the week. the orders then taper towards the end of the week, with a slight increase on the weekends. There is about a 25% increase from the lowest day (Friday) and the busiest day (Monday). "
   ]
  },
  {
   "cell_type": "markdown",
   "id": "cutting-concert",
   "metadata": {},
   "source": [
    "### [A4] How long do people wait until placing another order?"
   ]
  },
  {
   "cell_type": "code",
   "execution_count": 27,
   "id": "c231f523",
   "metadata": {},
   "outputs": [
    {
     "data": {
      "image/png": "[encoded data removed]",
      "text/plain": [
       "<Figure size 1000x500 with 1 Axes>"
      ]
     },
     "metadata": {},
     "output_type": "display_data"
    },
    {
     "data": {
      "text/plain": [
       "(np.float64(0.0), np.float64(30.0))"
      ]
     },
     "execution_count": 27,
     "metadata": {},
     "output_type": "execute_result"
    }
   ],
   "source": [
    "# Create a plot showing the distribution of days until the next order\n",
    "plt.figure(figsize=(10,5))\n",
    "orders_df['days_since_prior_order'].value_counts().sort_index().plot(kind='bar')\n",
    "\n",
    "# Formatting the plot\n",
    "plt.xlabel('Days Since Prior Order')\n",
    "plt.ylabel('Number of Orders')\n",
    "plt.title('Distribution of Time Between Orders')\n",
    "plt.xticks(rotation=45)\n",
    "plt.grid(axis='y', linestyle='--', alpha=0.7)\n",
    "\n",
    "# Show the plot\n",
    "plt.show()\n",
    "\n",
    "# Get the minimum and maximum values for 'days_since_prior_order'\n",
    "min_days_since_prior = orders_df['days_since_prior_order'].min()\n",
    "max_days_since_prior = orders_df['days_since_prior_order'].max()\n",
    "\n",
    "# Display the min and max values\n",
    "min_days_since_prior, max_days_since_prior\n"
   ]
  },
  {
   "cell_type": "markdown",
   "id": "discrete-vertex",
   "metadata": {},
   "source": [
    "This chart shows how many days customers wait between orders. Most customers wait about 7 days or less, with a week being the most popular time between orders. The spike at 30 days also includes customers who have waited 30 days or more between orders. It does not necessarily represent customers who have waited exactly 30 days between orders."
   ]
  },
  {
   "cell_type": "markdown",
   "id": "packed-classic",
   "metadata": {},
   "source": [
    "### [B1] Is there a difference in `'order_hour_of_day'` distributions on Wednesdays and Saturdays? "
   ]
  },
  {
   "cell_type": "code",
   "execution_count": 28,
   "id": "d89b8403",
   "metadata": {},
   "outputs": [
    {
     "data": {
      "image/png": "[encoded data removed]",
      "text/plain": [
       "<Figure size 1000x500 with 1 Axes>"
      ]
     },
     "metadata": {},
     "output_type": "display_data"
    }
   ],
   "source": [
    "# Filter data for Wednesdays (order_dow = 2) and Saturdays (order_dow = 5)\n",
    "wednesday_orders = orders_df[orders_df['order_dow'] == 2]['order_hour_of_day']\n",
    "saturday_orders = orders_df[orders_df['order_dow'] == 5]['order_hour_of_day']\n",
    "\n",
    "# Plot histograms for both days\n",
    "plt.figure(figsize=(10,5))\n",
    "plt.hist(wednesday_orders, bins=24, alpha=0.5, label='Wednesday', color='blue', edgecolor='black', density=True)\n",
    "plt.hist(saturday_orders, bins=24, alpha=0.5, label='Saturday', color='orange', edgecolor='black', density=True)\n",
    "\n",
    "# Formatting the plot\n",
    "plt.xlabel('Hour of the Day')\n",
    "plt.ylabel('Density')\n",
    "plt.title('Order Distribution by Hour on Wednesday vs. Saturday')\n",
    "plt.legend()\n",
    "plt.grid(axis='y', linestyle='--', alpha=0.7)\n",
    "\n",
    "# Show the plot\n",
    "plt.show()\n"
   ]
  },
  {
   "cell_type": "markdown",
   "id": "f3be8e7a",
   "metadata": {},
   "source": [
    "The histogram compares the order distribution between Wednesday (blue) and Saturday (orange.) \n",
    "The graph shows us that shoppers are active during similar times both days, only shopping slightly later on wednesdays.\n"
   ]
  },
  {
   "cell_type": "markdown",
   "id": "e3891143",
   "metadata": {},
   "source": [
    "### [B2] What's the distribution for the number of orders per customer?"
   ]
  },
  {
   "cell_type": "code",
   "execution_count": 29,
   "id": "d8c26c23",
   "metadata": {},
   "outputs": [
    {
     "data": {
      "image/png": "[encoded data removed]",
      "text/plain": [
       "<Figure size 1000x500 with 1 Axes>"
      ]
     },
     "metadata": {},
     "output_type": "display_data"
    }
   ],
   "source": [
    "# Calculate the number of orders per customer\n",
    "orders_per_customer = orders_df['user_id'].value_counts()\n",
    "\n",
    "# Plot the distribution\n",
    "plt.figure(figsize=(10,5))\n",
    "plt.hist(orders_per_customer, bins=range(1, orders_per_customer.max()+1), edgecolor='black', alpha=0.7)\n",
    "\n",
    "# Formatting the plot\n",
    "plt.xlabel('Number of Orders per Customer')\n",
    "plt.ylabel('Number of Customers')\n",
    "plt.title('Distribution of Orders per Customer')\n",
    "plt.grid(axis='y', linestyle='--', alpha=0.7)\n",
    "plt.xlim(1, orders_per_customer.max())\n",
    "\n",
    "# Show the plot\n",
    "plt.show()\n"
   ]
  },
  {
   "cell_type": "markdown",
   "id": "7464fcd0",
   "metadata": {},
   "source": [
    "<h1>Insights</h1>\n",
    "This chart shows us the number of orders each customer has placed. Most customers place fewer than five orders, with a signifigantly smaller amount placing more than 10. This information could be used by a customer retention team, to potentially figure out why customers are not placing many orders. It could be chalked up to the fact that people often only use delivery services as needed, and would not need much more than a few orders."
   ]
  },
  {
   "cell_type": "markdown",
   "id": "54a0319c",
   "metadata": {},
   "source": [
    "### [B3] What are the top 20 popular products?"
   ]
  },
  {
   "cell_type": "code",
   "execution_count": 30,
   "id": "exterior-arizona",
   "metadata": {
    "scrolled": true
   },
   "outputs": [
    {
     "data": {
      "text/html": [
       "<div>\n",
       "<style scoped>\n",
       "    .dataframe tbody tr th:only-of-type {\n",
       "        vertical-align: middle;\n",
       "    }\n",
       "\n",
       "    .dataframe tbody tr th {\n",
       "        vertical-align: top;\n",
       "    }\n",
       "\n",
       "    .dataframe thead th {\n",
       "        text-align: right;\n",
       "    }\n",
       "</style>\n",
       "<table border=\"1\" class=\"dataframe\">\n",
       "  <thead>\n",
       "    <tr style=\"text-align: right;\">\n",
       "      <th></th>\n",
       "      <th>product_id</th>\n",
       "      <th>order_count</th>\n",
       "      <th>product_name</th>\n",
       "    </tr>\n",
       "  </thead>\n",
       "  <tbody>\n",
       "    <tr>\n",
       "      <th>0</th>\n",
       "      <td>24852</td>\n",
       "      <td>66050</td>\n",
       "      <td>Banana</td>\n",
       "    </tr>\n",
       "    <tr>\n",
       "      <th>1</th>\n",
       "      <td>13176</td>\n",
       "      <td>53297</td>\n",
       "      <td>Bag of Organic Bananas</td>\n",
       "    </tr>\n",
       "    <tr>\n",
       "      <th>2</th>\n",
       "      <td>21137</td>\n",
       "      <td>37039</td>\n",
       "      <td>Organic Strawberries</td>\n",
       "    </tr>\n",
       "    <tr>\n",
       "      <th>3</th>\n",
       "      <td>21903</td>\n",
       "      <td>33971</td>\n",
       "      <td>Organic Baby Spinach</td>\n",
       "    </tr>\n",
       "    <tr>\n",
       "      <th>4</th>\n",
       "      <td>47209</td>\n",
       "      <td>29773</td>\n",
       "      <td>Organic Hass Avocado</td>\n",
       "    </tr>\n",
       "    <tr>\n",
       "      <th>5</th>\n",
       "      <td>47766</td>\n",
       "      <td>24689</td>\n",
       "      <td>Organic Avocado</td>\n",
       "    </tr>\n",
       "    <tr>\n",
       "      <th>6</th>\n",
       "      <td>47626</td>\n",
       "      <td>21495</td>\n",
       "      <td>Large Lemon</td>\n",
       "    </tr>\n",
       "    <tr>\n",
       "      <th>7</th>\n",
       "      <td>16797</td>\n",
       "      <td>20018</td>\n",
       "      <td>Strawberries</td>\n",
       "    </tr>\n",
       "    <tr>\n",
       "      <th>8</th>\n",
       "      <td>26209</td>\n",
       "      <td>19690</td>\n",
       "      <td>Limes</td>\n",
       "    </tr>\n",
       "    <tr>\n",
       "      <th>9</th>\n",
       "      <td>27845</td>\n",
       "      <td>19600</td>\n",
       "      <td>Organic Whole Milk</td>\n",
       "    </tr>\n",
       "    <tr>\n",
       "      <th>10</th>\n",
       "      <td>27966</td>\n",
       "      <td>19197</td>\n",
       "      <td>Organic Raspberries</td>\n",
       "    </tr>\n",
       "    <tr>\n",
       "      <th>11</th>\n",
       "      <td>22935</td>\n",
       "      <td>15898</td>\n",
       "      <td>Organic Yellow Onion</td>\n",
       "    </tr>\n",
       "    <tr>\n",
       "      <th>12</th>\n",
       "      <td>24964</td>\n",
       "      <td>15292</td>\n",
       "      <td>Organic Garlic</td>\n",
       "    </tr>\n",
       "    <tr>\n",
       "      <th>13</th>\n",
       "      <td>45007</td>\n",
       "      <td>14584</td>\n",
       "      <td>Organic Zucchini</td>\n",
       "    </tr>\n",
       "    <tr>\n",
       "      <th>14</th>\n",
       "      <td>39275</td>\n",
       "      <td>13879</td>\n",
       "      <td>Organic Blueberries</td>\n",
       "    </tr>\n",
       "    <tr>\n",
       "      <th>15</th>\n",
       "      <td>49683</td>\n",
       "      <td>13675</td>\n",
       "      <td>Cucumber Kirby</td>\n",
       "    </tr>\n",
       "    <tr>\n",
       "      <th>16</th>\n",
       "      <td>28204</td>\n",
       "      <td>12544</td>\n",
       "      <td>Organic Fuji Apple</td>\n",
       "    </tr>\n",
       "    <tr>\n",
       "      <th>17</th>\n",
       "      <td>5876</td>\n",
       "      <td>12232</td>\n",
       "      <td>Organic Lemon</td>\n",
       "    </tr>\n",
       "    <tr>\n",
       "      <th>18</th>\n",
       "      <td>8277</td>\n",
       "      <td>11993</td>\n",
       "      <td>Apple Honeycrisp Organic</td>\n",
       "    </tr>\n",
       "    <tr>\n",
       "      <th>19</th>\n",
       "      <td>40706</td>\n",
       "      <td>11781</td>\n",
       "      <td>Organic Grape Tomatoes</td>\n",
       "    </tr>\n",
       "  </tbody>\n",
       "</table>\n",
       "</div>"
      ],
      "text/plain": [
       "    product_id  order_count              product_name\n",
       "0        24852        66050                    Banana\n",
       "1        13176        53297    Bag of Organic Bananas\n",
       "2        21137        37039      Organic Strawberries\n",
       "3        21903        33971      Organic Baby Spinach\n",
       "4        47209        29773      Organic Hass Avocado\n",
       "5        47766        24689           Organic Avocado\n",
       "6        47626        21495               Large Lemon\n",
       "7        16797        20018              Strawberries\n",
       "8        26209        19690                     Limes\n",
       "9        27845        19600        Organic Whole Milk\n",
       "10       27966        19197       Organic Raspberries\n",
       "11       22935        15898      Organic Yellow Onion\n",
       "12       24964        15292            Organic Garlic\n",
       "13       45007        14584          Organic Zucchini\n",
       "14       39275        13879       Organic Blueberries\n",
       "15       49683        13675            Cucumber Kirby\n",
       "16       28204        12544        Organic Fuji Apple\n",
       "17        5876        12232             Organic Lemon\n",
       "18        8277        11993  Apple Honeycrisp Organic\n",
       "19       40706        11781    Organic Grape Tomatoes"
      ]
     },
     "execution_count": 30,
     "metadata": {},
     "output_type": "execute_result"
    }
   ],
   "source": [
    "# Count the most frequently ordered products\n",
    "top_products = order_products_df['product_id'].value_counts().head(20).reset_index()\n",
    "top_products.columns = ['product_id', 'order_count']\n",
    "\n",
    "# Merge with the products dataset to get product names\n",
    "top_products = top_products.merge(products_df[['product_id', 'product_name']], on='product_id', how='left')\n",
    "\n",
    "# Display the top 20 products with their IDs and names\n",
    "top_products\n",
    "\n"
   ]
  },
  {
   "cell_type": "markdown",
   "id": "gross-theme",
   "metadata": {},
   "source": [
    "# [C] Hard (must complete at least two to pass)"
   ]
  },
  {
   "cell_type": "markdown",
   "id": "romantic-deposit",
   "metadata": {},
   "source": [
    "### [C1] How many items do people typically buy in one order? What does the distribution look like?"
   ]
  },
  {
   "cell_type": "code",
   "execution_count": 31,
   "id": "virtual-punch",
   "metadata": {},
   "outputs": [
    {
     "data": {
      "image/png": "[encoded data removed]",
      "text/plain": [
       "<Figure size 1000x500 with 1 Axes>"
      ]
     },
     "metadata": {},
     "output_type": "display_data"
    },
    {
     "data": {
      "text/plain": [
       "count    450046.000000\n",
       "mean         10.098983\n",
       "std           7.540206\n",
       "min           1.000000\n",
       "25%           5.000000\n",
       "50%           8.000000\n",
       "75%          14.000000\n",
       "max         127.000000\n",
       "Name: product_id, dtype: float64"
      ]
     },
     "execution_count": 31,
     "metadata": {},
     "output_type": "execute_result"
    }
   ],
   "source": [
    "# Calculate the number of items per order\n",
    "items_per_order = order_products_df.groupby('order_id')['product_id'].count()\n",
    "\n",
    "# Plot the distribution of items per order\n",
    "plt.figure(figsize=(10,5))\n",
    "plt.hist(items_per_order, bins=range(1, items_per_order.max()+1, 5), edgecolor='black', alpha=0.7)\n",
    "\n",
    "# Formatting the plot\n",
    "plt.xlabel('Number of Items in an Order')\n",
    "plt.ylabel('Number of Orders')\n",
    "plt.title('Distribution of Items per Order')\n",
    "plt.grid(axis='y', linestyle='--', alpha=0.7)\n",
    "plt.xlim(0, items_per_order.max())\n",
    "\n",
    "# Show the plot\n",
    "plt.show()\n",
    "\n",
    "# Display descriptive statistics\n",
    "items_per_order.describe()\n"
   ]
  },
  {
   "cell_type": "markdown",
   "id": "6e36d651",
   "metadata": {},
   "source": [
    "The average number of items in an order is 10.1. \n",
    "The most common order size is 8 items.\n",
    "25% of the orders have 5 or fewer items, while 75% have 14 or fewer.\n",
    "The maximium amount of items in one order is 127 items."
   ]
  },
  {
   "cell_type": "markdown",
   "id": "5e6b5537",
   "metadata": {},
   "source": [
    "### [C2] What are the top 20 items that are reordered most frequently (display their names and product IDs)?"
   ]
  },
  {
   "cell_type": "code",
   "execution_count": 32,
   "id": "9374e55a",
   "metadata": {},
   "outputs": [
    {
     "data": {
      "text/html": [
       "<div>\n",
       "<style scoped>\n",
       "    .dataframe tbody tr th:only-of-type {\n",
       "        vertical-align: middle;\n",
       "    }\n",
       "\n",
       "    .dataframe tbody tr th {\n",
       "        vertical-align: top;\n",
       "    }\n",
       "\n",
       "    .dataframe thead th {\n",
       "        text-align: right;\n",
       "    }\n",
       "</style>\n",
       "<table border=\"1\" class=\"dataframe\">\n",
       "  <thead>\n",
       "    <tr style=\"text-align: right;\">\n",
       "      <th></th>\n",
       "      <th>product_id</th>\n",
       "      <th>reorder_count</th>\n",
       "      <th>product_name</th>\n",
       "    </tr>\n",
       "  </thead>\n",
       "  <tbody>\n",
       "    <tr>\n",
       "      <th>0</th>\n",
       "      <td>24852</td>\n",
       "      <td>55763</td>\n",
       "      <td>Banana</td>\n",
       "    </tr>\n",
       "    <tr>\n",
       "      <th>1</th>\n",
       "      <td>13176</td>\n",
       "      <td>44450</td>\n",
       "      <td>Bag of Organic Bananas</td>\n",
       "    </tr>\n",
       "    <tr>\n",
       "      <th>2</th>\n",
       "      <td>21137</td>\n",
       "      <td>28639</td>\n",
       "      <td>Organic Strawberries</td>\n",
       "    </tr>\n",
       "    <tr>\n",
       "      <th>3</th>\n",
       "      <td>21903</td>\n",
       "      <td>26233</td>\n",
       "      <td>Organic Baby Spinach</td>\n",
       "    </tr>\n",
       "    <tr>\n",
       "      <th>4</th>\n",
       "      <td>47209</td>\n",
       "      <td>23629</td>\n",
       "      <td>Organic Hass Avocado</td>\n",
       "    </tr>\n",
       "    <tr>\n",
       "      <th>5</th>\n",
       "      <td>47766</td>\n",
       "      <td>18743</td>\n",
       "      <td>Organic Avocado</td>\n",
       "    </tr>\n",
       "    <tr>\n",
       "      <th>6</th>\n",
       "      <td>27845</td>\n",
       "      <td>16251</td>\n",
       "      <td>Organic Whole Milk</td>\n",
       "    </tr>\n",
       "    <tr>\n",
       "      <th>7</th>\n",
       "      <td>47626</td>\n",
       "      <td>15044</td>\n",
       "      <td>Large Lemon</td>\n",
       "    </tr>\n",
       "    <tr>\n",
       "      <th>8</th>\n",
       "      <td>27966</td>\n",
       "      <td>14748</td>\n",
       "      <td>Organic Raspberries</td>\n",
       "    </tr>\n",
       "    <tr>\n",
       "      <th>9</th>\n",
       "      <td>16797</td>\n",
       "      <td>13945</td>\n",
       "      <td>Strawberries</td>\n",
       "    </tr>\n",
       "    <tr>\n",
       "      <th>10</th>\n",
       "      <td>26209</td>\n",
       "      <td>13327</td>\n",
       "      <td>Limes</td>\n",
       "    </tr>\n",
       "    <tr>\n",
       "      <th>11</th>\n",
       "      <td>22935</td>\n",
       "      <td>11145</td>\n",
       "      <td>Organic Yellow Onion</td>\n",
       "    </tr>\n",
       "    <tr>\n",
       "      <th>12</th>\n",
       "      <td>24964</td>\n",
       "      <td>10411</td>\n",
       "      <td>Organic Garlic</td>\n",
       "    </tr>\n",
       "    <tr>\n",
       "      <th>13</th>\n",
       "      <td>45007</td>\n",
       "      <td>10076</td>\n",
       "      <td>Organic Zucchini</td>\n",
       "    </tr>\n",
       "    <tr>\n",
       "      <th>14</th>\n",
       "      <td>49683</td>\n",
       "      <td>9538</td>\n",
       "      <td>Cucumber Kirby</td>\n",
       "    </tr>\n",
       "    <tr>\n",
       "      <th>15</th>\n",
       "      <td>28204</td>\n",
       "      <td>8989</td>\n",
       "      <td>Organic Fuji Apple</td>\n",
       "    </tr>\n",
       "    <tr>\n",
       "      <th>16</th>\n",
       "      <td>8277</td>\n",
       "      <td>8836</td>\n",
       "      <td>Apple Honeycrisp Organic</td>\n",
       "    </tr>\n",
       "    <tr>\n",
       "      <th>17</th>\n",
       "      <td>39275</td>\n",
       "      <td>8799</td>\n",
       "      <td>Organic Blueberries</td>\n",
       "    </tr>\n",
       "    <tr>\n",
       "      <th>18</th>\n",
       "      <td>5876</td>\n",
       "      <td>8412</td>\n",
       "      <td>Organic Lemon</td>\n",
       "    </tr>\n",
       "    <tr>\n",
       "      <th>19</th>\n",
       "      <td>49235</td>\n",
       "      <td>8389</td>\n",
       "      <td>Organic Half &amp; Half</td>\n",
       "    </tr>\n",
       "  </tbody>\n",
       "</table>\n",
       "</div>"
      ],
      "text/plain": [
       "    product_id  reorder_count              product_name\n",
       "0        24852          55763                    Banana\n",
       "1        13176          44450    Bag of Organic Bananas\n",
       "2        21137          28639      Organic Strawberries\n",
       "3        21903          26233      Organic Baby Spinach\n",
       "4        47209          23629      Organic Hass Avocado\n",
       "5        47766          18743           Organic Avocado\n",
       "6        27845          16251        Organic Whole Milk\n",
       "7        47626          15044               Large Lemon\n",
       "8        27966          14748       Organic Raspberries\n",
       "9        16797          13945              Strawberries\n",
       "10       26209          13327                     Limes\n",
       "11       22935          11145      Organic Yellow Onion\n",
       "12       24964          10411            Organic Garlic\n",
       "13       45007          10076          Organic Zucchini\n",
       "14       49683           9538            Cucumber Kirby\n",
       "15       28204           8989        Organic Fuji Apple\n",
       "16        8277           8836  Apple Honeycrisp Organic\n",
       "17       39275           8799       Organic Blueberries\n",
       "18        5876           8412             Organic Lemon\n",
       "19       49235           8389       Organic Half & Half"
      ]
     },
     "execution_count": 32,
     "metadata": {},
     "output_type": "execute_result"
    }
   ],
   "source": [
    "# Count the most frequently reordered products\n",
    "top_reordered_products = order_products_df[order_products_df['reordered'] == 1]['product_id'].value_counts().head(20).reset_index()\n",
    "top_reordered_products.columns = ['product_id', 'reorder_count']\n",
    "\n",
    "# Merge with the products dataset to get product names\n",
    "top_reordered_products = top_reordered_products.merge(products_df[['product_id', 'product_name']], on='product_id', how='left')\n",
    "\n",
    "# Display the top 20 reordered products\n",
    "top_reordered_products\n"
   ]
  },
  {
   "cell_type": "markdown",
   "id": "9d312b14",
   "metadata": {},
   "source": [
    "### [C3] For each product, what proportion of its orders are reorders?"
   ]
  },
  {
   "cell_type": "code",
   "execution_count": 33,
   "id": "8ae9f4b1",
   "metadata": {},
   "outputs": [
    {
     "data": {
      "text/html": [
       "<div>\n",
       "<style scoped>\n",
       "    .dataframe tbody tr th:only-of-type {\n",
       "        vertical-align: middle;\n",
       "    }\n",
       "\n",
       "    .dataframe tbody tr th {\n",
       "        vertical-align: top;\n",
       "    }\n",
       "\n",
       "    .dataframe thead th {\n",
       "        text-align: right;\n",
       "    }\n",
       "</style>\n",
       "<table border=\"1\" class=\"dataframe\">\n",
       "  <thead>\n",
       "    <tr style=\"text-align: right;\">\n",
       "      <th></th>\n",
       "      <th>product_id</th>\n",
       "      <th>reorder_proportion</th>\n",
       "      <th>product_name</th>\n",
       "    </tr>\n",
       "  </thead>\n",
       "  <tbody>\n",
       "    <tr>\n",
       "      <th>0</th>\n",
       "      <td>1</td>\n",
       "      <td>0.564286</td>\n",
       "      <td>Chocolate Sandwich Cookies</td>\n",
       "    </tr>\n",
       "    <tr>\n",
       "      <th>1</th>\n",
       "      <td>2</td>\n",
       "      <td>0.000000</td>\n",
       "      <td>All-Seasons Salt</td>\n",
       "    </tr>\n",
       "    <tr>\n",
       "      <th>2</th>\n",
       "      <td>3</td>\n",
       "      <td>0.738095</td>\n",
       "      <td>Robust Golden Unsweetened Oolong Tea</td>\n",
       "    </tr>\n",
       "    <tr>\n",
       "      <th>3</th>\n",
       "      <td>4</td>\n",
       "      <td>0.510204</td>\n",
       "      <td>Smart Ones Classic Favorites Mini Rigatoni Wit...</td>\n",
       "    </tr>\n",
       "    <tr>\n",
       "      <th>4</th>\n",
       "      <td>7</td>\n",
       "      <td>0.500000</td>\n",
       "      <td>Pure Coconut Water With Orange</td>\n",
       "    </tr>\n",
       "  </tbody>\n",
       "</table>\n",
       "</div>"
      ],
      "text/plain": [
       "   product_id  reorder_proportion  \\\n",
       "0           1            0.564286   \n",
       "1           2            0.000000   \n",
       "2           3            0.738095   \n",
       "3           4            0.510204   \n",
       "4           7            0.500000   \n",
       "\n",
       "                                        product_name  \n",
       "0                         Chocolate Sandwich Cookies  \n",
       "1                                   All-Seasons Salt  \n",
       "2               Robust Golden Unsweetened Oolong Tea  \n",
       "3  Smart Ones Classic Favorites Mini Rigatoni Wit...  \n",
       "4                     Pure Coconut Water With Orange  "
      ]
     },
     "execution_count": 33,
     "metadata": {},
     "output_type": "execute_result"
    }
   ],
   "source": [
    "# Calculate reorder proportions for each product\n",
    "reorder_proportions = order_products_df.groupby('product_id')['reordered'].mean().reset_index()\n",
    "reorder_proportions.columns = ['product_id', 'reorder_proportion']\n",
    "\n",
    "# Merge with the products dataset to get product names\n",
    "reorder_proportions = reorder_proportions.merge(products_df[['product_id', 'product_name']], on='product_id', how='left')\n",
    "\n",
    "# Display the reorder proportion table\n",
    "reorder_proportions.head()\n"
   ]
  },
  {
   "cell_type": "markdown",
   "id": "subject-boxing",
   "metadata": {},
   "source": [
    "##[C4] For each customer, what proportion of their products ordered are reorders?"
   ]
  },
  {
   "cell_type": "code",
   "execution_count": 34,
   "id": "medical-couple",
   "metadata": {
    "scrolled": true
   },
   "outputs": [
    {
     "data": {
      "text/html": [
       "<div>\n",
       "<style scoped>\n",
       "    .dataframe tbody tr th:only-of-type {\n",
       "        vertical-align: middle;\n",
       "    }\n",
       "\n",
       "    .dataframe tbody tr th {\n",
       "        vertical-align: top;\n",
       "    }\n",
       "\n",
       "    .dataframe thead th {\n",
       "        text-align: right;\n",
       "    }\n",
       "</style>\n",
       "<table border=\"1\" class=\"dataframe\">\n",
       "  <thead>\n",
       "    <tr style=\"text-align: right;\">\n",
       "      <th></th>\n",
       "      <th>user_id</th>\n",
       "      <th>reorder_proportion</th>\n",
       "    </tr>\n",
       "  </thead>\n",
       "  <tbody>\n",
       "    <tr>\n",
       "      <th>0</th>\n",
       "      <td>2</td>\n",
       "      <td>0.038462</td>\n",
       "    </tr>\n",
       "    <tr>\n",
       "      <th>1</th>\n",
       "      <td>4</td>\n",
       "      <td>0.000000</td>\n",
       "    </tr>\n",
       "    <tr>\n",
       "      <th>2</th>\n",
       "      <td>5</td>\n",
       "      <td>0.666667</td>\n",
       "    </tr>\n",
       "    <tr>\n",
       "      <th>3</th>\n",
       "      <td>6</td>\n",
       "      <td>0.000000</td>\n",
       "    </tr>\n",
       "    <tr>\n",
       "      <th>4</th>\n",
       "      <td>7</td>\n",
       "      <td>0.944444</td>\n",
       "    </tr>\n",
       "  </tbody>\n",
       "</table>\n",
       "</div>"
      ],
      "text/plain": [
       "   user_id  reorder_proportion\n",
       "0        2            0.038462\n",
       "1        4            0.000000\n",
       "2        5            0.666667\n",
       "3        6            0.000000\n",
       "4        7            0.944444"
      ]
     },
     "execution_count": 34,
     "metadata": {},
     "output_type": "execute_result"
    }
   ],
   "source": [
    "# Calculate reorder proportion for each customer\n",
    "customer_reorder_proportion = order_products_df.groupby('order_id')['reordered'].mean().reset_index()\n",
    "\n",
    "# Merge with the orders dataset to get user_id\n",
    "customer_reorder_proportion = customer_reorder_proportion.merge(orders_df[['order_id', 'user_id']], on='order_id', how='left')\n",
    "\n",
    "# Calculate the average reorder proportion per user\n",
    "customer_reorder_proportion = customer_reorder_proportion.groupby('user_id')['reordered'].mean().reset_index()\n",
    "customer_reorder_proportion.columns = ['user_id', 'reorder_proportion']\n",
    "\n",
    "# Display the reorder proportion table for customers\n",
    "customer_reorder_proportion.head()\n"
   ]
  },
  {
   "cell_type": "markdown",
   "id": "5e630e73",
   "metadata": {},
   "source": [
    "<h1>Conclusion:</h1>\n",
    "The aim of the project was to analyze customer order behavior using Instacart's publicly provided order data. This includes shopping frequency, identifying patterns in reorder behavior, and investigating issues with the quality of the data, such as missing values in key columns and amending these issues.\n",
    "\n",
    "Through successful data merging and preprocessing, key patterns in customer behavior were uncovered. Most notably, customer orders peaked between 10 AM and 4 PM, with significantly fewer orders placed during late-night hours. Weekly trends revealed a spike in orders at the beginning of the week, particularly on Mondays, aligning with common grocery shopping routines. Additionally, reorder patterns varied widely across users, with some showing very high proportions of repeated purchases, highlighting potential for personalized marketing strategies.\n",
    "\n",
    "Addressing missing values ensuring consistency across merged datasets presented initial challenges. Figuring out the differnece between null values that represented \"0\", and values that were actually missing also posed challenges as well. This information could not be found using any command, and had to be inferred using context clues.\n",
    "\n",
    "The findings provide actionable insights for marketing and operations teams at Instacart. For instance, promotional campaigns could be timed to align with peak shopping hours or tailored based on a user’s likelihood to reorder. Identifying heavy repeat customers offers a path to loyalty programs or targeted retention strategies.\n",
    "\n",
    "Looking ahead, future work could expand by analyzing product-level trends, exploring demographic influences on shopping behavior, and integrating external datasets (like holidays or weather) to explain anomalies. Additionally, predictive modeling could further enhance understanding of reorder probability and timing, supporting even smarter, more personalized recommendations.\n"
   ]
  }
 ],
 "metadata": {
  "ExecuteTimeLog": [
   {
    "duration": 180,
    "start_time": "2025-03-18T00:05:20.354Z"
   },
   {
    "duration": 12,
    "start_time": "2025-03-18T00:09:15.694Z"
   },
   {
    "duration": 670,
    "start_time": "2025-03-18T00:10:06.470Z"
   },
   {
    "duration": 60,
    "start_time": "2025-03-18T00:10:08.191Z"
   },
   {
    "duration": 59,
    "start_time": "2025-03-18T00:11:26.846Z"
   },
   {
    "duration": 62,
    "start_time": "2025-03-18T00:11:31.190Z"
   },
   {
    "duration": 13,
    "start_time": "2025-03-18T00:11:47.116Z"
   },
   {
    "duration": 6,
    "start_time": "2025-03-18T00:13:59.112Z"
   },
   {
    "duration": 4,
    "start_time": "2025-03-18T00:14:14.349Z"
   },
   {
    "duration": 6,
    "start_time": "2025-03-18T00:14:18.747Z"
   },
   {
    "duration": 4,
    "start_time": "2025-03-18T00:14:29.477Z"
   },
   {
    "duration": 14,
    "start_time": "2025-03-18T00:14:47.479Z"
   },
   {
    "duration": 14,
    "start_time": "2025-03-18T00:14:58.244Z"
   },
   {
    "duration": 3,
    "start_time": "2025-03-18T00:14:58.939Z"
   },
   {
    "duration": 14,
    "start_time": "2025-03-18T00:16:32.868Z"
   },
   {
    "duration": 14,
    "start_time": "2025-03-18T00:16:53.695Z"
   },
   {
    "duration": 14,
    "start_time": "2025-03-18T00:17:03.281Z"
   },
   {
    "duration": 64,
    "start_time": "2025-03-18T00:18:43.773Z"
   },
   {
    "duration": 60,
    "start_time": "2025-03-18T00:19:22.638Z"
   },
   {
    "duration": 2,
    "start_time": "2025-03-18T00:19:23.587Z"
   },
   {
    "duration": 64,
    "start_time": "2025-03-18T00:19:28.614Z"
   },
   {
    "duration": 875,
    "start_time": "2025-03-18T00:19:36.001Z"
   },
   {
    "duration": 0,
    "start_time": "2025-03-18T00:19:36.879Z"
   },
   {
    "duration": 0,
    "start_time": "2025-03-18T00:19:36.880Z"
   },
   {
    "duration": 0,
    "start_time": "2025-03-18T00:19:36.881Z"
   },
   {
    "duration": 0,
    "start_time": "2025-03-18T00:19:36.882Z"
   },
   {
    "duration": 0,
    "start_time": "2025-03-18T00:19:36.882Z"
   },
   {
    "duration": 0,
    "start_time": "2025-03-18T00:19:36.883Z"
   },
   {
    "duration": 0,
    "start_time": "2025-03-18T00:19:36.884Z"
   },
   {
    "duration": 1,
    "start_time": "2025-03-18T00:19:36.885Z"
   },
   {
    "duration": 0,
    "start_time": "2025-03-18T00:19:36.887Z"
   },
   {
    "duration": 0,
    "start_time": "2025-03-18T00:19:36.905Z"
   },
   {
    "duration": 0,
    "start_time": "2025-03-18T00:19:36.906Z"
   },
   {
    "duration": 0,
    "start_time": "2025-03-18T00:19:36.907Z"
   },
   {
    "duration": 0,
    "start_time": "2025-03-18T00:19:36.908Z"
   },
   {
    "duration": 0,
    "start_time": "2025-03-18T00:19:36.909Z"
   },
   {
    "duration": 0,
    "start_time": "2025-03-18T00:19:36.910Z"
   },
   {
    "duration": 0,
    "start_time": "2025-03-18T00:19:36.911Z"
   },
   {
    "duration": 0,
    "start_time": "2025-03-18T00:19:36.913Z"
   },
   {
    "duration": 0,
    "start_time": "2025-03-18T00:19:36.914Z"
   },
   {
    "duration": 0,
    "start_time": "2025-03-18T00:19:36.915Z"
   },
   {
    "duration": 60,
    "start_time": "2025-03-18T00:21:08.312Z"
   },
   {
    "duration": 845,
    "start_time": "2025-03-18T00:35:48.503Z"
   },
   {
    "duration": 87,
    "start_time": "2025-03-18T00:47:06.476Z"
   },
   {
    "duration": 17,
    "start_time": "2025-03-18T00:47:28.150Z"
   },
   {
    "duration": 61,
    "start_time": "2025-03-18T00:47:38.684Z"
   },
   {
    "duration": 61,
    "start_time": "2025-03-18T00:48:14.877Z"
   },
   {
    "duration": 2,
    "start_time": "2025-03-18T00:48:15.778Z"
   },
   {
    "duration": 60,
    "start_time": "2025-03-18T00:48:27.371Z"
   },
   {
    "duration": 62,
    "start_time": "2025-03-18T00:48:37.865Z"
   },
   {
    "duration": 275,
    "start_time": "2025-03-18T00:49:25.667Z"
   },
   {
    "duration": 22,
    "start_time": "2025-03-18T01:04:59.739Z"
   },
   {
    "duration": 9,
    "start_time": "2025-03-18T01:05:20.629Z"
   },
   {
    "duration": 79,
    "start_time": "2025-03-18T01:06:51.642Z"
   },
   {
    "duration": 72,
    "start_time": "2025-03-18T01:07:32.134Z"
   },
   {
    "duration": 58,
    "start_time": "2025-03-18T01:07:35.740Z"
   },
   {
    "duration": 2,
    "start_time": "2025-03-18T01:07:44.256Z"
   },
   {
    "duration": 98,
    "start_time": "2025-03-18T01:08:39.631Z"
   },
   {
    "duration": 92,
    "start_time": "2025-03-18T01:08:42.293Z"
   },
   {
    "duration": 102,
    "start_time": "2025-03-18T01:08:49.074Z"
   },
   {
    "duration": 99,
    "start_time": "2025-03-18T01:08:54.129Z"
   },
   {
    "duration": 50,
    "start_time": "2025-03-18T01:09:46.042Z"
   },
   {
    "duration": 47,
    "start_time": "2025-03-18T01:12:58.784Z"
   },
   {
    "duration": 60,
    "start_time": "2025-03-18T01:14:46.700Z"
   },
   {
    "duration": 61,
    "start_time": "2025-03-18T01:14:55.626Z"
   },
   {
    "duration": 5,
    "start_time": "2025-03-18T01:15:20.483Z"
   },
   {
    "duration": 13,
    "start_time": "2025-03-18T01:15:42.245Z"
   },
   {
    "duration": 2,
    "start_time": "2025-03-18T01:15:42.669Z"
   },
   {
    "duration": 18,
    "start_time": "2025-03-18T01:16:01.141Z"
   },
   {
    "duration": 63,
    "start_time": "2025-03-18T01:21:03.497Z"
   },
   {
    "duration": 21,
    "start_time": "2025-03-18T01:21:13.934Z"
   },
   {
    "duration": 21,
    "start_time": "2025-03-18T01:25:33.591Z"
   },
   {
    "duration": 66,
    "start_time": "2025-03-18T01:28:07.004Z"
   },
   {
    "duration": 62,
    "start_time": "2025-03-18T01:28:16.696Z"
   },
   {
    "duration": 24,
    "start_time": "2025-03-18T01:28:23.326Z"
   },
   {
    "duration": 595,
    "start_time": "2025-03-19T02:09:35.957Z"
   },
   {
    "duration": 13,
    "start_time": "2025-03-19T02:09:36.556Z"
   },
   {
    "duration": 82,
    "start_time": "2025-03-19T02:09:36.817Z"
   },
   {
    "duration": 108,
    "start_time": "2025-03-19T02:09:37.517Z"
   },
   {
    "duration": 53,
    "start_time": "2025-03-19T02:09:38.357Z"
   },
   {
    "duration": 62,
    "start_time": "2025-03-19T02:09:39.557Z"
   },
   {
    "duration": 6,
    "start_time": "2025-03-19T02:09:39.938Z"
   },
   {
    "duration": 11,
    "start_time": "2025-03-19T02:09:40.294Z"
   },
   {
    "duration": 15,
    "start_time": "2025-03-19T02:09:40.641Z"
   },
   {
    "duration": 21,
    "start_time": "2025-03-19T02:09:41.631Z"
   },
   {
    "duration": 23,
    "start_time": "2025-03-19T02:09:50.091Z"
   },
   {
    "duration": 1516,
    "start_time": "2025-03-19T02:13:06.175Z"
   },
   {
    "duration": 2226,
    "start_time": "2025-03-19T02:13:22.081Z"
   },
   {
    "duration": 2230,
    "start_time": "2025-03-19T02:13:52.942Z"
   },
   {
    "duration": 2431,
    "start_time": "2025-03-19T02:15:37.573Z"
   },
   {
    "duration": 2297,
    "start_time": "2025-03-19T02:15:40.477Z"
   },
   {
    "duration": 2224,
    "start_time": "2025-03-19T02:15:56.834Z"
   },
   {
    "duration": 2518,
    "start_time": "2025-03-19T02:16:16.598Z"
   },
   {
    "duration": 2503,
    "start_time": "2025-03-19T02:16:23.896Z"
   },
   {
    "duration": 2278,
    "start_time": "2025-03-19T02:16:37.609Z"
   },
   {
    "duration": 2219,
    "start_time": "2025-03-19T02:16:48.935Z"
   },
   {
    "duration": 2249,
    "start_time": "2025-03-19T02:16:59.132Z"
   },
   {
    "duration": 2208,
    "start_time": "2025-03-19T02:17:25.079Z"
   },
   {
    "duration": 2242,
    "start_time": "2025-03-19T02:17:29.524Z"
   },
   {
    "duration": 3124,
    "start_time": "2025-03-19T02:19:26.153Z"
   },
   {
    "duration": 3234,
    "start_time": "2025-03-19T02:22:10.749Z"
   },
   {
    "duration": 83,
    "start_time": "2025-03-19T02:28:29.942Z"
   },
   {
    "duration": 79,
    "start_time": "2025-03-19T02:38:36.291Z"
   },
   {
    "duration": 90,
    "start_time": "2025-03-19T02:39:11.140Z"
   },
   {
    "duration": 257,
    "start_time": "2025-03-19T02:41:13.599Z"
   },
   {
    "duration": 306,
    "start_time": "2025-03-19T02:42:30.680Z"
   },
   {
    "duration": 236,
    "start_time": "2025-03-19T02:48:18.497Z"
   },
   {
    "duration": 348,
    "start_time": "2025-03-20T01:08:29.503Z"
   },
   {
    "duration": 87,
    "start_time": "2025-03-20T01:14:04.667Z"
   },
   {
    "duration": 12,
    "start_time": "2025-03-20T01:16:22.587Z"
   },
   {
    "duration": 8,
    "start_time": "2025-03-20T01:20:52.144Z"
   },
   {
    "duration": 272,
    "start_time": "2025-03-20T01:25:21.650Z"
   },
   {
    "duration": 10,
    "start_time": "2025-03-20T01:25:21.924Z"
   },
   {
    "duration": 95,
    "start_time": "2025-03-20T01:25:21.937Z"
   },
   {
    "duration": 118,
    "start_time": "2025-03-20T01:25:22.033Z"
   },
   {
    "duration": 58,
    "start_time": "2025-03-20T01:25:22.154Z"
   },
   {
    "duration": 58,
    "start_time": "2025-03-20T01:25:22.214Z"
   },
   {
    "duration": 7,
    "start_time": "2025-03-20T01:25:22.273Z"
   },
   {
    "duration": 11,
    "start_time": "2025-03-20T01:25:22.281Z"
   },
   {
    "duration": 37,
    "start_time": "2025-03-20T01:25:22.294Z"
   },
   {
    "duration": 23,
    "start_time": "2025-03-20T01:25:22.333Z"
   },
   {
    "duration": 24,
    "start_time": "2025-03-20T01:25:22.357Z"
   },
   {
    "duration": 3450,
    "start_time": "2025-03-20T01:25:22.383Z"
   },
   {
    "duration": 288,
    "start_time": "2025-03-20T01:25:25.835Z"
   },
   {
    "duration": 85,
    "start_time": "2025-03-20T01:25:26.126Z"
   },
   {
    "duration": 7,
    "start_time": "2025-03-20T01:25:26.212Z"
   },
   {
    "duration": 8,
    "start_time": "2025-03-20T01:25:26.231Z"
   },
   {
    "duration": 2,
    "start_time": "2025-03-20T01:25:26.241Z"
   },
   {
    "duration": 4,
    "start_time": "2025-03-20T01:25:26.244Z"
   },
   {
    "duration": 2,
    "start_time": "2025-03-20T01:25:26.251Z"
   },
   {
    "duration": 3,
    "start_time": "2025-03-20T01:25:26.255Z"
   },
   {
    "duration": 3,
    "start_time": "2025-03-20T01:25:26.259Z"
   },
   {
    "duration": 3,
    "start_time": "2025-03-20T01:25:26.264Z"
   },
   {
    "duration": 4,
    "start_time": "2025-03-20T01:25:26.268Z"
   },
   {
    "duration": 521,
    "start_time": "2025-03-20T01:34:25.077Z"
   },
   {
    "duration": 120,
    "start_time": "2025-03-20T01:34:38.463Z"
   },
   {
    "duration": 705,
    "start_time": "2025-03-20T01:59:08.976Z"
   },
   {
    "duration": 467,
    "start_time": "2025-03-20T02:01:43.021Z"
   },
   {
    "duration": 51,
    "start_time": "2025-03-20T02:02:07.781Z"
   },
   {
    "duration": 47,
    "start_time": "2025-03-20T02:02:45.221Z"
   },
   {
    "duration": 62,
    "start_time": "2025-03-20T02:10:08.273Z"
   },
   {
    "duration": 784,
    "start_time": "2025-03-20T02:10:16.743Z"
   },
   {
    "duration": 13,
    "start_time": "2025-03-20T02:14:40.319Z"
   },
   {
    "duration": 59,
    "start_time": "2025-03-20T02:14:57.405Z"
   },
   {
    "duration": 120,
    "start_time": "2025-03-20T02:16:47.673Z"
   },
   {
    "duration": 113,
    "start_time": "2025-03-20T02:24:48.270Z"
   },
   {
    "duration": 2457,
    "start_time": "2025-03-20T02:25:49.664Z"
   },
   {
    "duration": 195,
    "start_time": "2025-03-20T02:26:10.909Z"
   },
   {
    "duration": 1570,
    "start_time": "2025-03-20T02:26:16.868Z"
   },
   {
    "duration": 337,
    "start_time": "2025-03-20T02:26:27.028Z"
   },
   {
    "duration": 270,
    "start_time": "2025-03-20T02:26:30.668Z"
   },
   {
    "duration": 223,
    "start_time": "2025-03-20T02:26:34.898Z"
   },
   {
    "duration": 137,
    "start_time": "2025-03-20T02:27:29.951Z"
   },
   {
    "duration": 220,
    "start_time": "2025-03-20T02:28:02.901Z"
   },
   {
    "duration": 230,
    "start_time": "2025-03-20T02:28:36.117Z"
   },
   {
    "duration": 235,
    "start_time": "2025-03-20T02:28:48.256Z"
   },
   {
    "duration": 181,
    "start_time": "2025-03-20T02:31:31.619Z"
   },
   {
    "duration": 144,
    "start_time": "2025-03-20T02:36:41.318Z"
   },
   {
    "duration": 60,
    "start_time": "2025-03-20T02:38:09.507Z"
   },
   {
    "duration": 852,
    "start_time": "2025-03-20T02:38:23.105Z"
   },
   {
    "duration": 836,
    "start_time": "2025-03-20T02:39:00.993Z"
   },
   {
    "duration": 459,
    "start_time": "2025-03-20T02:43:29.172Z"
   },
   {
    "duration": 132,
    "start_time": "2025-03-20T02:46:17.542Z"
   },
   {
    "duration": 98,
    "start_time": "2025-03-20T02:50:14.823Z"
   },
   {
    "duration": 412,
    "start_time": "2025-03-20T02:51:32.600Z"
   },
   {
    "duration": 574,
    "start_time": "2025-03-20T06:39:03.674Z"
   },
   {
    "duration": 12,
    "start_time": "2025-03-20T06:39:04.250Z"
   },
   {
    "duration": 79,
    "start_time": "2025-03-20T06:39:04.264Z"
   },
   {
    "duration": 102,
    "start_time": "2025-03-20T06:39:04.345Z"
   },
   {
    "duration": 62,
    "start_time": "2025-03-20T06:39:04.451Z"
   },
   {
    "duration": 59,
    "start_time": "2025-03-20T06:39:04.516Z"
   },
   {
    "duration": 6,
    "start_time": "2025-03-20T06:39:04.577Z"
   },
   {
    "duration": 10,
    "start_time": "2025-03-20T06:39:04.584Z"
   },
   {
    "duration": 22,
    "start_time": "2025-03-20T06:39:04.596Z"
   },
   {
    "duration": 21,
    "start_time": "2025-03-20T06:39:04.619Z"
   },
   {
    "duration": 22,
    "start_time": "2025-03-20T06:39:04.642Z"
   },
   {
    "duration": 3141,
    "start_time": "2025-03-20T06:39:04.666Z"
   },
   {
    "duration": 238,
    "start_time": "2025-03-20T06:39:07.809Z"
   },
   {
    "duration": 85,
    "start_time": "2025-03-20T06:39:08.050Z"
   },
   {
    "duration": 6,
    "start_time": "2025-03-20T06:39:08.137Z"
   },
   {
    "duration": 7,
    "start_time": "2025-03-20T06:39:08.145Z"
   },
   {
    "duration": 3,
    "start_time": "2025-03-20T06:39:08.153Z"
   },
   {
    "duration": 5,
    "start_time": "2025-03-20T06:39:08.158Z"
   },
   {
    "duration": 139,
    "start_time": "2025-03-20T06:39:08.164Z"
   },
   {
    "duration": 116,
    "start_time": "2025-03-20T06:39:08.305Z"
   },
   {
    "duration": 705,
    "start_time": "2025-03-20T06:39:08.423Z"
   },
   {
    "duration": 10,
    "start_time": "2025-03-20T06:39:09.130Z"
   },
   {
    "duration": 585,
    "start_time": "2025-03-20T06:39:09.143Z"
   },
   {
    "duration": 0,
    "start_time": "2025-03-20T06:39:09.730Z"
   },
   {
    "duration": 0,
    "start_time": "2025-03-20T06:39:09.731Z"
   },
   {
    "duration": 0,
    "start_time": "2025-03-20T06:39:09.734Z"
   },
   {
    "duration": 0,
    "start_time": "2025-03-20T06:39:09.735Z"
   },
   {
    "duration": 0,
    "start_time": "2025-03-20T06:39:09.736Z"
   },
   {
    "duration": 0,
    "start_time": "2025-03-20T06:39:09.737Z"
   },
   {
    "duration": 0,
    "start_time": "2025-03-20T06:39:09.738Z"
   },
   {
    "duration": 0,
    "start_time": "2025-03-20T06:39:09.739Z"
   },
   {
    "duration": 0,
    "start_time": "2025-03-20T06:39:09.740Z"
   },
   {
    "duration": 0,
    "start_time": "2025-03-20T06:39:09.741Z"
   },
   {
    "duration": 0,
    "start_time": "2025-03-20T06:39:09.742Z"
   },
   {
    "duration": 0,
    "start_time": "2025-03-20T06:39:09.743Z"
   },
   {
    "duration": 0,
    "start_time": "2025-03-20T06:39:09.745Z"
   },
   {
    "duration": 0,
    "start_time": "2025-03-20T06:39:09.746Z"
   },
   {
    "duration": 0,
    "start_time": "2025-03-20T06:39:09.747Z"
   },
   {
    "duration": 159,
    "start_time": "2025-03-22T00:36:24.567Z"
   },
   {
    "duration": 13,
    "start_time": "2025-03-22T00:36:24.949Z"
   },
   {
    "duration": 12,
    "start_time": "2025-03-22T00:36:26.096Z"
   },
   {
    "duration": 12,
    "start_time": "2025-03-22T00:36:26.647Z"
   },
   {
    "duration": 598,
    "start_time": "2025-03-22T00:36:34.443Z"
   },
   {
    "duration": 12,
    "start_time": "2025-03-22T00:36:35.044Z"
   },
   {
    "duration": 75,
    "start_time": "2025-03-22T00:36:35.275Z"
   },
   {
    "duration": 103,
    "start_time": "2025-03-22T00:36:36.037Z"
   },
   {
    "duration": 57,
    "start_time": "2025-03-22T00:36:36.685Z"
   },
   {
    "duration": 64,
    "start_time": "2025-03-22T00:36:37.741Z"
   },
   {
    "duration": 7,
    "start_time": "2025-03-22T00:36:38.205Z"
   },
   {
    "duration": 11,
    "start_time": "2025-03-22T00:36:38.347Z"
   },
   {
    "duration": 16,
    "start_time": "2025-03-22T00:36:38.512Z"
   },
   {
    "duration": 21,
    "start_time": "2025-03-22T00:36:39.017Z"
   },
   {
    "duration": 26,
    "start_time": "2025-03-22T00:36:39.762Z"
   },
   {
    "duration": 1367,
    "start_time": "2025-03-22T00:44:14.998Z"
   },
   {
    "duration": 15,
    "start_time": "2025-03-22T00:44:16.368Z"
   },
   {
    "duration": 117,
    "start_time": "2025-03-22T00:44:16.385Z"
   },
   {
    "duration": 138,
    "start_time": "2025-03-22T00:44:16.509Z"
   },
   {
    "duration": 75,
    "start_time": "2025-03-22T00:44:16.649Z"
   },
   {
    "duration": 15,
    "start_time": "2025-03-22T00:44:16.727Z"
   },
   {
    "duration": 7,
    "start_time": "2025-03-22T00:44:16.745Z"
   },
   {
    "duration": 13,
    "start_time": "2025-03-22T00:44:16.754Z"
   },
   {
    "duration": 49,
    "start_time": "2025-03-22T00:44:16.769Z"
   },
   {
    "duration": 20,
    "start_time": "2025-03-22T00:44:16.820Z"
   },
   {
    "duration": 23,
    "start_time": "2025-03-22T00:44:16.842Z"
   },
   {
    "duration": 2971,
    "start_time": "2025-03-22T00:44:16.867Z"
   },
   {
    "duration": 260,
    "start_time": "2025-03-22T00:44:19.840Z"
   },
   {
    "duration": 55,
    "start_time": "2025-03-22T00:44:20.103Z"
   },
   {
    "duration": 6,
    "start_time": "2025-03-22T00:44:20.160Z"
   },
   {
    "duration": 7,
    "start_time": "2025-03-22T00:44:20.168Z"
   },
   {
    "duration": 2,
    "start_time": "2025-03-22T00:44:20.177Z"
   },
   {
    "duration": 33,
    "start_time": "2025-03-22T00:44:20.180Z"
   },
   {
    "duration": 138,
    "start_time": "2025-03-22T00:44:20.215Z"
   },
   {
    "duration": 11,
    "start_time": "2025-03-22T00:44:20.354Z"
   },
   {
    "duration": 572,
    "start_time": "2025-03-22T00:44:20.369Z"
   },
   {
    "duration": 0,
    "start_time": "2025-03-22T00:44:20.943Z"
   },
   {
    "duration": 1,
    "start_time": "2025-03-22T00:44:20.944Z"
   },
   {
    "duration": 0,
    "start_time": "2025-03-22T00:44:20.946Z"
   },
   {
    "duration": 0,
    "start_time": "2025-03-22T00:44:20.947Z"
   },
   {
    "duration": 0,
    "start_time": "2025-03-22T00:44:20.948Z"
   },
   {
    "duration": 0,
    "start_time": "2025-03-22T00:44:20.949Z"
   },
   {
    "duration": 0,
    "start_time": "2025-03-22T00:44:20.950Z"
   },
   {
    "duration": 0,
    "start_time": "2025-03-22T00:44:20.951Z"
   },
   {
    "duration": 0,
    "start_time": "2025-03-22T00:44:20.953Z"
   },
   {
    "duration": 0,
    "start_time": "2025-03-22T00:44:20.954Z"
   },
   {
    "duration": 0,
    "start_time": "2025-03-22T00:44:20.956Z"
   },
   {
    "duration": 0,
    "start_time": "2025-03-22T00:44:20.957Z"
   },
   {
    "duration": 0,
    "start_time": "2025-03-22T00:44:20.959Z"
   },
   {
    "duration": 0,
    "start_time": "2025-03-22T00:44:20.960Z"
   },
   {
    "duration": 0,
    "start_time": "2025-03-22T00:44:20.961Z"
   },
   {
    "duration": 947,
    "start_time": "2025-03-22T00:44:23.339Z"
   },
   {
    "duration": 8,
    "start_time": "2025-03-22T00:44:24.289Z"
   },
   {
    "duration": 74,
    "start_time": "2025-03-22T00:44:24.639Z"
   },
   {
    "duration": 99,
    "start_time": "2025-03-22T00:44:25.110Z"
   },
   {
    "duration": 46,
    "start_time": "2025-03-22T00:44:25.510Z"
   },
   {
    "duration": 14,
    "start_time": "2025-03-22T00:44:26.731Z"
   },
   {
    "duration": 8,
    "start_time": "2025-03-22T00:44:27.187Z"
   },
   {
    "duration": 16,
    "start_time": "2025-03-22T00:44:27.520Z"
   },
   {
    "duration": 18,
    "start_time": "2025-03-22T00:44:27.838Z"
   },
   {
    "duration": 19,
    "start_time": "2025-03-22T00:44:28.843Z"
   },
   {
    "duration": 20,
    "start_time": "2025-03-22T00:44:30.259Z"
   },
   {
    "duration": 2480,
    "start_time": "2025-03-22T00:44:31.659Z"
   },
   {
    "duration": 264,
    "start_time": "2025-03-22T00:44:34.141Z"
   },
   {
    "duration": 51,
    "start_time": "2025-03-22T00:44:34.407Z"
   },
   {
    "duration": 7,
    "start_time": "2025-03-22T00:44:34.460Z"
   },
   {
    "duration": 7,
    "start_time": "2025-03-22T00:44:34.469Z"
   },
   {
    "duration": 4,
    "start_time": "2025-03-22T00:44:35.231Z"
   },
   {
    "duration": 5,
    "start_time": "2025-03-22T00:44:35.920Z"
   },
   {
    "duration": 108,
    "start_time": "2025-03-22T00:44:43.053Z"
   },
   {
    "duration": 11,
    "start_time": "2025-03-22T00:44:44.923Z"
   },
   {
    "duration": 50,
    "start_time": "2025-03-22T00:44:50.447Z"
   },
   {
    "duration": 415,
    "start_time": "2025-03-22T00:44:50.984Z"
   },
   {
    "duration": 41,
    "start_time": "2025-03-22T00:44:51.717Z"
   },
   {
    "duration": 13,
    "start_time": "2025-03-22T00:50:06.410Z"
   },
   {
    "duration": 59,
    "start_time": "2025-03-22T00:50:50.108Z"
   },
   {
    "duration": 44,
    "start_time": "2025-03-22T00:55:21.878Z"
   },
   {
    "duration": 913,
    "start_time": "2025-03-22T00:57:58.470Z"
   },
   {
    "duration": 9,
    "start_time": "2025-03-22T00:57:59.385Z"
   },
   {
    "duration": 60,
    "start_time": "2025-03-22T00:57:59.397Z"
   },
   {
    "duration": 86,
    "start_time": "2025-03-22T00:57:59.459Z"
   },
   {
    "duration": 40,
    "start_time": "2025-03-22T00:57:59.547Z"
   },
   {
    "duration": 30,
    "start_time": "2025-03-22T00:57:59.590Z"
   },
   {
    "duration": 7,
    "start_time": "2025-03-22T00:57:59.736Z"
   },
   {
    "duration": 11,
    "start_time": "2025-03-22T00:57:59.896Z"
   },
   {
    "duration": 16,
    "start_time": "2025-03-22T00:58:00.068Z"
   },
   {
    "duration": 20,
    "start_time": "2025-03-22T00:58:00.580Z"
   },
   {
    "duration": 21,
    "start_time": "2025-03-22T00:58:01.319Z"
   },
   {
    "duration": 2452,
    "start_time": "2025-03-22T00:58:02.751Z"
   },
   {
    "duration": 266,
    "start_time": "2025-03-22T00:58:05.210Z"
   },
   {
    "duration": 60,
    "start_time": "2025-03-22T00:58:05.479Z"
   },
   {
    "duration": 7,
    "start_time": "2025-03-22T00:58:05.541Z"
   },
   {
    "duration": 7,
    "start_time": "2025-03-22T00:58:05.549Z"
   },
   {
    "duration": 2,
    "start_time": "2025-03-22T00:58:05.558Z"
   },
   {
    "duration": 5,
    "start_time": "2025-03-22T00:58:05.694Z"
   },
   {
    "duration": 102,
    "start_time": "2025-03-22T00:58:06.755Z"
   },
   {
    "duration": 13,
    "start_time": "2025-03-22T00:58:08.423Z"
   },
   {
    "duration": 48,
    "start_time": "2025-03-22T00:58:09.199Z"
   },
   {
    "duration": 118,
    "start_time": "2025-03-22T00:58:09.627Z"
   },
   {
    "duration": 45,
    "start_time": "2025-03-22T00:58:10.430Z"
   },
   {
    "duration": 51,
    "start_time": "2025-03-22T00:58:15.381Z"
   },
   {
    "duration": 50,
    "start_time": "2025-03-22T00:58:16.172Z"
   },
   {
    "duration": 79,
    "start_time": "2025-03-22T00:59:07.969Z"
   },
   {
    "duration": 52,
    "start_time": "2025-03-22T00:59:16.694Z"
   },
   {
    "duration": 6,
    "start_time": "2025-03-22T00:59:20.729Z"
   },
   {
    "duration": 2192,
    "start_time": "2025-03-22T00:59:21.688Z"
   },
   {
    "duration": 146,
    "start_time": "2025-03-22T00:59:23.882Z"
   },
   {
    "duration": 191,
    "start_time": "2025-03-22T00:59:25.849Z"
   },
   {
    "duration": 134,
    "start_time": "2025-03-22T00:59:26.833Z"
   },
   {
    "duration": 220,
    "start_time": "2025-03-22T00:59:27.949Z"
   },
   {
    "duration": 188,
    "start_time": "2025-03-22T00:59:29.942Z"
   },
   {
    "duration": 5,
    "start_time": "2025-03-22T00:59:30.397Z"
   },
   {
    "duration": 148,
    "start_time": "2025-03-22T00:59:32.207Z"
   },
   {
    "duration": 79,
    "start_time": "2025-03-22T00:59:33.900Z"
   },
   {
    "duration": 374,
    "start_time": "2025-03-22T00:59:36.035Z"
   },
   {
    "duration": 4,
    "start_time": "2025-03-22T00:59:37.137Z"
   },
   {
    "duration": 94,
    "start_time": "2025-03-22T01:00:03.242Z"
   },
   {
    "duration": 82,
    "start_time": "2025-03-22T01:00:06.106Z"
   },
   {
    "duration": 340,
    "start_time": "2025-03-22T01:00:07.339Z"
   },
   {
    "duration": 1529,
    "start_time": "2025-03-22T08:31:17.870Z"
   },
   {
    "duration": 13,
    "start_time": "2025-03-22T08:31:19.403Z"
   },
   {
    "duration": 85,
    "start_time": "2025-03-22T08:31:19.420Z"
   },
   {
    "duration": 120,
    "start_time": "2025-03-22T08:31:19.510Z"
   },
   {
    "duration": 54,
    "start_time": "2025-03-22T08:31:19.632Z"
   },
   {
    "duration": 34,
    "start_time": "2025-03-22T08:31:19.687Z"
   },
   {
    "duration": 8,
    "start_time": "2025-03-22T08:31:19.722Z"
   },
   {
    "duration": 14,
    "start_time": "2025-03-22T08:31:19.733Z"
   },
   {
    "duration": 17,
    "start_time": "2025-03-22T08:31:19.749Z"
   },
   {
    "duration": 45,
    "start_time": "2025-03-22T08:31:19.770Z"
   },
   {
    "duration": 31,
    "start_time": "2025-03-22T08:31:19.817Z"
   },
   {
    "duration": 2745,
    "start_time": "2025-03-22T08:31:19.850Z"
   },
   {
    "duration": 328,
    "start_time": "2025-03-22T08:31:22.596Z"
   },
   {
    "duration": 51,
    "start_time": "2025-03-22T08:31:22.927Z"
   },
   {
    "duration": 5,
    "start_time": "2025-03-22T08:31:22.980Z"
   },
   {
    "duration": 36,
    "start_time": "2025-03-22T08:31:22.987Z"
   },
   {
    "duration": 3,
    "start_time": "2025-03-22T08:31:23.025Z"
   },
   {
    "duration": 5,
    "start_time": "2025-03-22T08:31:23.031Z"
   },
   {
    "duration": 128,
    "start_time": "2025-03-22T08:31:23.038Z"
   },
   {
    "duration": 10,
    "start_time": "2025-03-22T08:31:23.168Z"
   },
   {
    "duration": 642,
    "start_time": "2025-03-22T08:31:23.180Z"
   },
   {
    "duration": 0,
    "start_time": "2025-03-22T08:31:23.825Z"
   },
   {
    "duration": 0,
    "start_time": "2025-03-22T08:31:23.826Z"
   },
   {
    "duration": 0,
    "start_time": "2025-03-22T08:31:23.827Z"
   },
   {
    "duration": 0,
    "start_time": "2025-03-22T08:31:23.828Z"
   },
   {
    "duration": 0,
    "start_time": "2025-03-22T08:31:23.833Z"
   },
   {
    "duration": 0,
    "start_time": "2025-03-22T08:31:23.837Z"
   },
   {
    "duration": 0,
    "start_time": "2025-03-22T08:31:23.838Z"
   },
   {
    "duration": 0,
    "start_time": "2025-03-22T08:31:23.839Z"
   },
   {
    "duration": 0,
    "start_time": "2025-03-22T08:31:23.840Z"
   },
   {
    "duration": 0,
    "start_time": "2025-03-22T08:31:23.845Z"
   },
   {
    "duration": 0,
    "start_time": "2025-03-22T08:31:23.846Z"
   },
   {
    "duration": 0,
    "start_time": "2025-03-22T08:31:23.847Z"
   },
   {
    "duration": 0,
    "start_time": "2025-03-22T08:31:23.848Z"
   },
   {
    "duration": 0,
    "start_time": "2025-03-22T08:31:23.854Z"
   },
   {
    "duration": 1628,
    "start_time": "2025-03-24T04:55:39.904Z"
   },
   {
    "duration": 12,
    "start_time": "2025-03-24T04:55:41.534Z"
   },
   {
    "duration": 75,
    "start_time": "2025-03-24T04:55:41.548Z"
   },
   {
    "duration": 100,
    "start_time": "2025-03-24T04:55:41.632Z"
   },
   {
    "duration": 59,
    "start_time": "2025-03-24T04:55:41.734Z"
   },
   {
    "duration": 14,
    "start_time": "2025-03-24T04:55:41.794Z"
   },
   {
    "duration": 26,
    "start_time": "2025-03-24T04:55:41.809Z"
   },
   {
    "duration": 8,
    "start_time": "2025-03-24T04:55:41.837Z"
   },
   {
    "duration": 18,
    "start_time": "2025-03-24T04:55:41.847Z"
   },
   {
    "duration": 19,
    "start_time": "2025-03-24T04:55:41.869Z"
   },
   {
    "duration": 49,
    "start_time": "2025-03-24T04:55:41.890Z"
   },
   {
    "duration": 2494,
    "start_time": "2025-03-24T04:55:41.940Z"
   },
   {
    "duration": 250,
    "start_time": "2025-03-24T04:55:44.436Z"
   },
   {
    "duration": 60,
    "start_time": "2025-03-24T04:55:44.688Z"
   },
   {
    "duration": 8,
    "start_time": "2025-03-24T04:55:44.750Z"
   },
   {
    "duration": 7,
    "start_time": "2025-03-24T04:55:44.759Z"
   },
   {
    "duration": 2,
    "start_time": "2025-03-24T04:55:44.767Z"
   },
   {
    "duration": 7,
    "start_time": "2025-03-24T04:55:44.771Z"
   },
   {
    "duration": 181,
    "start_time": "2025-03-24T04:55:44.782Z"
   },
   {
    "duration": 10,
    "start_time": "2025-03-24T04:55:44.964Z"
   },
   {
    "duration": 640,
    "start_time": "2025-03-24T04:55:44.976Z"
   },
   {
    "duration": 0,
    "start_time": "2025-03-24T04:55:45.618Z"
   },
   {
    "duration": 0,
    "start_time": "2025-03-24T04:55:45.619Z"
   },
   {
    "duration": 0,
    "start_time": "2025-03-24T04:55:45.621Z"
   },
   {
    "duration": 0,
    "start_time": "2025-03-24T04:55:45.622Z"
   },
   {
    "duration": 0,
    "start_time": "2025-03-24T04:55:45.631Z"
   },
   {
    "duration": 0,
    "start_time": "2025-03-24T04:55:45.632Z"
   },
   {
    "duration": 0,
    "start_time": "2025-03-24T04:55:45.633Z"
   },
   {
    "duration": 0,
    "start_time": "2025-03-24T04:55:45.635Z"
   },
   {
    "duration": 0,
    "start_time": "2025-03-24T04:55:45.636Z"
   },
   {
    "duration": 0,
    "start_time": "2025-03-24T04:55:45.639Z"
   },
   {
    "duration": 0,
    "start_time": "2025-03-24T04:55:45.640Z"
   },
   {
    "duration": 0,
    "start_time": "2025-03-24T04:55:45.641Z"
   },
   {
    "duration": 0,
    "start_time": "2025-03-24T04:55:45.642Z"
   },
   {
    "duration": 0,
    "start_time": "2025-03-24T04:55:45.644Z"
   },
   {
    "duration": 1276,
    "start_time": "2025-03-24T07:55:38.037Z"
   },
   {
    "duration": 10,
    "start_time": "2025-03-24T07:55:39.316Z"
   },
   {
    "duration": 76,
    "start_time": "2025-03-24T07:55:39.327Z"
   },
   {
    "duration": 101,
    "start_time": "2025-03-24T07:55:39.405Z"
   },
   {
    "duration": 55,
    "start_time": "2025-03-24T07:55:39.508Z"
   },
   {
    "duration": 12,
    "start_time": "2025-03-24T07:55:39.565Z"
   },
   {
    "duration": 5,
    "start_time": "2025-03-24T07:55:39.578Z"
   },
   {
    "duration": 9,
    "start_time": "2025-03-24T07:55:39.585Z"
   },
   {
    "duration": 14,
    "start_time": "2025-03-24T07:55:39.597Z"
   },
   {
    "duration": 47,
    "start_time": "2025-03-24T07:55:39.612Z"
   },
   {
    "duration": 20,
    "start_time": "2025-03-24T07:55:39.661Z"
   },
   {
    "duration": 2399,
    "start_time": "2025-03-24T07:55:39.683Z"
   },
   {
    "duration": 245,
    "start_time": "2025-03-24T07:55:42.084Z"
   },
   {
    "duration": 56,
    "start_time": "2025-03-24T07:55:42.333Z"
   },
   {
    "duration": 6,
    "start_time": "2025-03-24T07:55:42.390Z"
   },
   {
    "duration": 7,
    "start_time": "2025-03-24T07:55:42.397Z"
   },
   {
    "duration": 3,
    "start_time": "2025-03-24T07:55:42.405Z"
   },
   {
    "duration": 6,
    "start_time": "2025-03-24T07:55:42.409Z"
   },
   {
    "duration": 148,
    "start_time": "2025-03-24T07:55:42.416Z"
   },
   {
    "duration": 10,
    "start_time": "2025-03-24T07:55:42.566Z"
   },
   {
    "duration": 593,
    "start_time": "2025-03-24T07:55:42.577Z"
   },
   {
    "duration": 0,
    "start_time": "2025-03-24T07:55:43.172Z"
   },
   {
    "duration": 0,
    "start_time": "2025-03-24T07:55:43.174Z"
   },
   {
    "duration": 0,
    "start_time": "2025-03-24T07:55:43.175Z"
   },
   {
    "duration": 0,
    "start_time": "2025-03-24T07:55:43.176Z"
   },
   {
    "duration": 0,
    "start_time": "2025-03-24T07:55:43.177Z"
   },
   {
    "duration": 0,
    "start_time": "2025-03-24T07:55:43.179Z"
   },
   {
    "duration": 0,
    "start_time": "2025-03-24T07:55:43.180Z"
   },
   {
    "duration": 0,
    "start_time": "2025-03-24T07:55:43.182Z"
   },
   {
    "duration": 0,
    "start_time": "2025-03-24T07:55:43.184Z"
   },
   {
    "duration": 0,
    "start_time": "2025-03-24T07:55:43.185Z"
   },
   {
    "duration": 0,
    "start_time": "2025-03-24T07:55:43.187Z"
   },
   {
    "duration": 0,
    "start_time": "2025-03-24T07:55:43.189Z"
   },
   {
    "duration": 0,
    "start_time": "2025-03-24T07:55:43.190Z"
   },
   {
    "duration": 0,
    "start_time": "2025-03-24T07:55:43.191Z"
   },
   {
    "duration": 159,
    "start_time": "2025-03-24T22:57:22.233Z"
   },
   {
    "duration": 1435,
    "start_time": "2025-03-24T22:57:36.135Z"
   },
   {
    "duration": 19,
    "start_time": "2025-03-24T22:57:37.573Z"
   },
   {
    "duration": 70,
    "start_time": "2025-03-24T22:57:37.593Z"
   },
   {
    "duration": 122,
    "start_time": "2025-03-24T22:57:37.665Z"
   },
   {
    "duration": 51,
    "start_time": "2025-03-24T22:57:37.790Z"
   },
   {
    "duration": 16,
    "start_time": "2025-03-24T22:57:37.844Z"
   },
   {
    "duration": 25,
    "start_time": "2025-03-24T22:57:37.863Z"
   },
   {
    "duration": 12,
    "start_time": "2025-03-24T22:57:37.891Z"
   },
   {
    "duration": 15,
    "start_time": "2025-03-24T22:57:37.905Z"
   },
   {
    "duration": 18,
    "start_time": "2025-03-24T22:57:37.922Z"
   },
   {
    "duration": 45,
    "start_time": "2025-03-24T22:57:37.942Z"
   },
   {
    "duration": 2435,
    "start_time": "2025-03-24T22:57:37.989Z"
   },
   {
    "duration": 238,
    "start_time": "2025-03-24T22:57:40.426Z"
   },
   {
    "duration": 60,
    "start_time": "2025-03-24T22:57:40.668Z"
   },
   {
    "duration": 6,
    "start_time": "2025-03-24T22:57:40.730Z"
   },
   {
    "duration": 6,
    "start_time": "2025-03-24T22:57:40.737Z"
   },
   {
    "duration": 2,
    "start_time": "2025-03-24T22:57:40.745Z"
   },
   {
    "duration": 6,
    "start_time": "2025-03-24T22:57:40.749Z"
   },
   {
    "duration": 150,
    "start_time": "2025-03-24T22:57:40.756Z"
   },
   {
    "duration": 10,
    "start_time": "2025-03-24T22:57:40.908Z"
   },
   {
    "duration": 592,
    "start_time": "2025-03-24T22:57:40.920Z"
   },
   {
    "duration": 0,
    "start_time": "2025-03-24T22:57:41.514Z"
   },
   {
    "duration": 0,
    "start_time": "2025-03-24T22:57:41.515Z"
   },
   {
    "duration": 0,
    "start_time": "2025-03-24T22:57:41.516Z"
   },
   {
    "duration": 0,
    "start_time": "2025-03-24T22:57:41.517Z"
   },
   {
    "duration": 0,
    "start_time": "2025-03-24T22:57:41.518Z"
   },
   {
    "duration": 0,
    "start_time": "2025-03-24T22:57:41.519Z"
   },
   {
    "duration": 0,
    "start_time": "2025-03-24T22:57:41.520Z"
   },
   {
    "duration": 0,
    "start_time": "2025-03-24T22:57:41.521Z"
   },
   {
    "duration": 0,
    "start_time": "2025-03-24T22:57:41.522Z"
   },
   {
    "duration": 0,
    "start_time": "2025-03-24T22:57:41.523Z"
   },
   {
    "duration": 0,
    "start_time": "2025-03-24T22:57:41.525Z"
   },
   {
    "duration": 0,
    "start_time": "2025-03-24T22:57:41.527Z"
   },
   {
    "duration": 0,
    "start_time": "2025-03-24T22:57:41.528Z"
   },
   {
    "duration": 0,
    "start_time": "2025-03-24T22:57:41.529Z"
   },
   {
    "duration": 6,
    "start_time": "2025-03-24T22:57:49.268Z"
   },
   {
    "duration": 1499,
    "start_time": "2025-03-26T01:35:30.832Z"
   },
   {
    "duration": 10,
    "start_time": "2025-03-26T01:35:32.333Z"
   },
   {
    "duration": 72,
    "start_time": "2025-03-26T01:35:32.614Z"
   },
   {
    "duration": 105,
    "start_time": "2025-03-26T01:35:33.260Z"
   },
   {
    "duration": 11,
    "start_time": "2025-03-26T01:35:38.887Z"
   },
   {
    "duration": 8,
    "start_time": "2025-03-26T01:35:39.063Z"
   },
   {
    "duration": 1343,
    "start_time": "2025-03-26T01:36:21.441Z"
   },
   {
    "duration": 11,
    "start_time": "2025-03-26T01:36:22.786Z"
   },
   {
    "duration": 108,
    "start_time": "2025-03-26T01:36:22.798Z"
   },
   {
    "duration": 130,
    "start_time": "2025-03-26T01:36:22.909Z"
   },
   {
    "duration": 63,
    "start_time": "2025-03-26T01:36:23.042Z"
   },
   {
    "duration": 14,
    "start_time": "2025-03-26T01:36:23.107Z"
   },
   {
    "duration": 5,
    "start_time": "2025-03-26T01:36:23.123Z"
   },
   {
    "duration": 9,
    "start_time": "2025-03-26T01:36:23.130Z"
   },
   {
    "duration": 42,
    "start_time": "2025-03-26T01:36:23.141Z"
   },
   {
    "duration": 19,
    "start_time": "2025-03-26T01:36:23.187Z"
   },
   {
    "duration": 25,
    "start_time": "2025-03-26T01:36:23.207Z"
   },
   {
    "duration": 2520,
    "start_time": "2025-03-26T01:36:23.233Z"
   },
   {
    "duration": 260,
    "start_time": "2025-03-26T01:36:25.754Z"
   },
   {
    "duration": 60,
    "start_time": "2025-03-26T01:36:26.017Z"
   },
   {
    "duration": 6,
    "start_time": "2025-03-26T01:36:26.079Z"
   },
   {
    "duration": 6,
    "start_time": "2025-03-26T01:36:26.088Z"
   },
   {
    "duration": 2,
    "start_time": "2025-03-26T01:36:26.096Z"
   },
   {
    "duration": 5,
    "start_time": "2025-03-26T01:36:26.100Z"
   },
   {
    "duration": 7,
    "start_time": "2025-03-26T01:36:26.107Z"
   },
   {
    "duration": 13,
    "start_time": "2025-03-26T01:36:26.117Z"
   },
   {
    "duration": 654,
    "start_time": "2025-03-26T01:36:26.131Z"
   },
   {
    "duration": 0,
    "start_time": "2025-03-26T01:36:26.787Z"
   },
   {
    "duration": 0,
    "start_time": "2025-03-26T01:36:26.789Z"
   },
   {
    "duration": 0,
    "start_time": "2025-03-26T01:36:26.790Z"
   },
   {
    "duration": 0,
    "start_time": "2025-03-26T01:36:26.791Z"
   },
   {
    "duration": 0,
    "start_time": "2025-03-26T01:36:26.792Z"
   },
   {
    "duration": 0,
    "start_time": "2025-03-26T01:36:26.793Z"
   },
   {
    "duration": 0,
    "start_time": "2025-03-26T01:36:26.794Z"
   },
   {
    "duration": 0,
    "start_time": "2025-03-26T01:36:26.796Z"
   },
   {
    "duration": 0,
    "start_time": "2025-03-26T01:36:26.797Z"
   },
   {
    "duration": 0,
    "start_time": "2025-03-26T01:36:26.798Z"
   },
   {
    "duration": 0,
    "start_time": "2025-03-26T01:36:26.799Z"
   },
   {
    "duration": 0,
    "start_time": "2025-03-26T01:36:26.800Z"
   },
   {
    "duration": 0,
    "start_time": "2025-03-26T01:36:26.800Z"
   },
   {
    "duration": 0,
    "start_time": "2025-03-26T01:36:26.802Z"
   },
   {
    "duration": 1354,
    "start_time": "2025-03-26T08:13:06.990Z"
   },
   {
    "duration": 10,
    "start_time": "2025-03-26T08:13:08.347Z"
   },
   {
    "duration": 94,
    "start_time": "2025-03-26T08:13:08.359Z"
   },
   {
    "duration": 124,
    "start_time": "2025-03-26T08:13:08.455Z"
   },
   {
    "duration": 74,
    "start_time": "2025-03-26T08:13:08.582Z"
   },
   {
    "duration": 14,
    "start_time": "2025-03-26T08:13:08.659Z"
   },
   {
    "duration": 7,
    "start_time": "2025-03-26T08:13:08.675Z"
   },
   {
    "duration": 31,
    "start_time": "2025-03-26T08:13:08.684Z"
   },
   {
    "duration": 16,
    "start_time": "2025-03-26T08:13:08.717Z"
   },
   {
    "duration": 21,
    "start_time": "2025-03-26T08:13:08.734Z"
   },
   {
    "duration": 59,
    "start_time": "2025-03-26T08:13:08.757Z"
   },
   {
    "duration": 2512,
    "start_time": "2025-03-26T08:13:08.817Z"
   },
   {
    "duration": 275,
    "start_time": "2025-03-26T08:13:11.331Z"
   },
   {
    "duration": 52,
    "start_time": "2025-03-26T08:13:11.610Z"
   },
   {
    "duration": 6,
    "start_time": "2025-03-26T08:13:11.664Z"
   },
   {
    "duration": 8,
    "start_time": "2025-03-26T08:13:11.672Z"
   },
   {
    "duration": 25,
    "start_time": "2025-03-26T08:13:11.681Z"
   },
   {
    "duration": 7,
    "start_time": "2025-03-26T08:13:11.708Z"
   },
   {
    "duration": 6,
    "start_time": "2025-03-26T08:13:11.716Z"
   },
   {
    "duration": 10,
    "start_time": "2025-03-26T08:13:11.725Z"
   },
   {
    "duration": 608,
    "start_time": "2025-03-26T08:13:11.738Z"
   },
   {
    "duration": 0,
    "start_time": "2025-03-26T08:13:12.348Z"
   },
   {
    "duration": 0,
    "start_time": "2025-03-26T08:13:12.350Z"
   },
   {
    "duration": 0,
    "start_time": "2025-03-26T08:13:12.351Z"
   },
   {
    "duration": 0,
    "start_time": "2025-03-26T08:13:12.352Z"
   },
   {
    "duration": 0,
    "start_time": "2025-03-26T08:13:12.353Z"
   },
   {
    "duration": 0,
    "start_time": "2025-03-26T08:13:12.354Z"
   },
   {
    "duration": 0,
    "start_time": "2025-03-26T08:13:12.355Z"
   },
   {
    "duration": 0,
    "start_time": "2025-03-26T08:13:12.356Z"
   },
   {
    "duration": 0,
    "start_time": "2025-03-26T08:13:12.357Z"
   },
   {
    "duration": 0,
    "start_time": "2025-03-26T08:13:12.358Z"
   },
   {
    "duration": 0,
    "start_time": "2025-03-26T08:13:12.363Z"
   },
   {
    "duration": 0,
    "start_time": "2025-03-26T08:13:12.364Z"
   },
   {
    "duration": 0,
    "start_time": "2025-03-26T08:13:12.365Z"
   },
   {
    "duration": 0,
    "start_time": "2025-03-26T08:13:12.366Z"
   },
   {
    "duration": 120,
    "start_time": "2025-03-26T08:15:39.412Z"
   },
   {
    "duration": 49,
    "start_time": "2025-03-26T08:15:40.519Z"
   },
   {
    "duration": 52,
    "start_time": "2025-03-26T08:15:41.094Z"
   },
   {
    "duration": 7,
    "start_time": "2025-03-26T08:15:51.400Z"
   },
   {
    "duration": 440,
    "start_time": "2025-03-26T08:15:51.811Z"
   },
   {
    "duration": 145,
    "start_time": "2025-03-26T08:15:52.254Z"
   },
   {
    "duration": 221,
    "start_time": "2025-03-26T08:15:52.679Z"
   },
   {
    "duration": 184,
    "start_time": "2025-03-26T08:15:53.549Z"
   },
   {
    "duration": 5,
    "start_time": "2025-03-26T08:15:53.735Z"
   },
   {
    "duration": 147,
    "start_time": "2025-03-26T08:15:54.423Z"
   },
   {
    "duration": 160,
    "start_time": "2025-03-27T02:18:48.871Z"
   },
   {
    "duration": 15,
    "start_time": "2025-03-27T02:19:11.084Z"
   },
   {
    "duration": 14,
    "start_time": "2025-03-27T02:19:47.536Z"
   },
   {
    "duration": 13,
    "start_time": "2025-03-27T02:21:33.741Z"
   },
   {
    "duration": 13,
    "start_time": "2025-03-27T02:21:41.057Z"
   },
   {
    "duration": 12,
    "start_time": "2025-03-27T02:21:43.760Z"
   },
   {
    "duration": 13,
    "start_time": "2025-03-27T02:21:44.361Z"
   },
   {
    "duration": 1664,
    "start_time": "2025-03-27T02:21:49.183Z"
   },
   {
    "duration": 11,
    "start_time": "2025-03-27T02:21:50.850Z"
   },
   {
    "duration": 82,
    "start_time": "2025-03-27T02:21:50.862Z"
   },
   {
    "duration": 142,
    "start_time": "2025-03-27T02:21:50.945Z"
   },
   {
    "duration": 61,
    "start_time": "2025-03-27T02:21:51.090Z"
   },
   {
    "duration": 18,
    "start_time": "2025-03-27T02:21:51.154Z"
   },
   {
    "duration": 7,
    "start_time": "2025-03-27T02:21:51.187Z"
   },
   {
    "duration": 10,
    "start_time": "2025-03-27T02:21:51.196Z"
   },
   {
    "duration": 15,
    "start_time": "2025-03-27T02:21:51.208Z"
   },
   {
    "duration": 31,
    "start_time": "2025-03-27T02:21:51.225Z"
   },
   {
    "duration": 47,
    "start_time": "2025-03-27T02:21:51.258Z"
   },
   {
    "duration": 2758,
    "start_time": "2025-03-27T02:21:51.306Z"
   },
   {
    "duration": 212,
    "start_time": "2025-03-27T02:21:54.066Z"
   },
   {
    "duration": 0,
    "start_time": "2025-03-27T02:21:54.286Z"
   },
   {
    "duration": 0,
    "start_time": "2025-03-27T02:21:54.288Z"
   },
   {
    "duration": 0,
    "start_time": "2025-03-27T02:21:54.289Z"
   },
   {
    "duration": 0,
    "start_time": "2025-03-27T02:21:54.291Z"
   },
   {
    "duration": 0,
    "start_time": "2025-03-27T02:21:54.292Z"
   },
   {
    "duration": 0,
    "start_time": "2025-03-27T02:21:54.293Z"
   },
   {
    "duration": 0,
    "start_time": "2025-03-27T02:21:54.295Z"
   },
   {
    "duration": 0,
    "start_time": "2025-03-27T02:21:54.296Z"
   },
   {
    "duration": 0,
    "start_time": "2025-03-27T02:21:54.297Z"
   },
   {
    "duration": 0,
    "start_time": "2025-03-27T02:21:54.298Z"
   },
   {
    "duration": 0,
    "start_time": "2025-03-27T02:21:54.299Z"
   },
   {
    "duration": 0,
    "start_time": "2025-03-27T02:21:54.301Z"
   },
   {
    "duration": 0,
    "start_time": "2025-03-27T02:21:54.302Z"
   },
   {
    "duration": 0,
    "start_time": "2025-03-27T02:21:54.304Z"
   },
   {
    "duration": 0,
    "start_time": "2025-03-27T02:21:54.306Z"
   },
   {
    "duration": 0,
    "start_time": "2025-03-27T02:21:54.306Z"
   },
   {
    "duration": 0,
    "start_time": "2025-03-27T02:21:54.307Z"
   },
   {
    "duration": 0,
    "start_time": "2025-03-27T02:21:54.308Z"
   },
   {
    "duration": 0,
    "start_time": "2025-03-27T02:21:54.309Z"
   },
   {
    "duration": 0,
    "start_time": "2025-03-27T02:21:54.314Z"
   },
   {
    "duration": 0,
    "start_time": "2025-03-27T02:21:54.315Z"
   },
   {
    "duration": 237,
    "start_time": "2025-03-27T02:22:56.823Z"
   },
   {
    "duration": 61,
    "start_time": "2025-03-27T02:23:07.503Z"
   },
   {
    "duration": 52,
    "start_time": "2025-03-27T02:24:22.745Z"
   },
   {
    "duration": 7,
    "start_time": "2025-03-27T02:24:23.440Z"
   },
   {
    "duration": 8,
    "start_time": "2025-03-27T02:24:24.038Z"
   },
   {
    "duration": 924,
    "start_time": "2025-03-27T02:27:36.246Z"
   },
   {
    "duration": 436,
    "start_time": "2025-03-27T02:28:18.547Z"
   },
   {
    "duration": 1280,
    "start_time": "2025-03-27T02:31:45.946Z"
   },
   {
    "duration": 9,
    "start_time": "2025-03-27T02:31:47.228Z"
   },
   {
    "duration": 82,
    "start_time": "2025-03-27T02:31:47.239Z"
   },
   {
    "duration": 114,
    "start_time": "2025-03-27T02:31:47.323Z"
   },
   {
    "duration": 61,
    "start_time": "2025-03-27T02:31:47.441Z"
   },
   {
    "duration": 16,
    "start_time": "2025-03-27T02:31:47.504Z"
   },
   {
    "duration": 5,
    "start_time": "2025-03-27T02:31:47.521Z"
   },
   {
    "duration": 10,
    "start_time": "2025-03-27T02:31:47.528Z"
   },
   {
    "duration": 15,
    "start_time": "2025-03-27T02:31:47.539Z"
   },
   {
    "duration": 47,
    "start_time": "2025-03-27T02:31:47.556Z"
   },
   {
    "duration": 20,
    "start_time": "2025-03-27T02:31:47.604Z"
   },
   {
    "duration": 2383,
    "start_time": "2025-03-27T02:31:47.626Z"
   },
   {
    "duration": 931,
    "start_time": "2025-03-27T02:31:50.011Z"
   },
   {
    "duration": 58,
    "start_time": "2025-03-27T02:31:50.946Z"
   },
   {
    "duration": 5,
    "start_time": "2025-03-27T02:31:51.006Z"
   },
   {
    "duration": 9,
    "start_time": "2025-03-27T02:31:51.013Z"
   },
   {
    "duration": 3,
    "start_time": "2025-03-27T02:31:51.023Z"
   },
   {
    "duration": 5,
    "start_time": "2025-03-27T02:31:51.027Z"
   },
   {
    "duration": 6,
    "start_time": "2025-03-27T02:31:51.033Z"
   },
   {
    "duration": 9,
    "start_time": "2025-03-27T02:31:51.041Z"
   },
   {
    "duration": 591,
    "start_time": "2025-03-27T02:31:51.051Z"
   },
   {
    "duration": 0,
    "start_time": "2025-03-27T02:31:51.644Z"
   },
   {
    "duration": 0,
    "start_time": "2025-03-27T02:31:51.645Z"
   },
   {
    "duration": 0,
    "start_time": "2025-03-27T02:31:51.646Z"
   },
   {
    "duration": 0,
    "start_time": "2025-03-27T02:31:51.647Z"
   },
   {
    "duration": 0,
    "start_time": "2025-03-27T02:31:51.648Z"
   },
   {
    "duration": 0,
    "start_time": "2025-03-27T02:31:51.649Z"
   },
   {
    "duration": 0,
    "start_time": "2025-03-27T02:31:51.650Z"
   },
   {
    "duration": 0,
    "start_time": "2025-03-27T02:31:51.651Z"
   },
   {
    "duration": 0,
    "start_time": "2025-03-27T02:31:51.653Z"
   },
   {
    "duration": 0,
    "start_time": "2025-03-27T02:31:51.654Z"
   },
   {
    "duration": 0,
    "start_time": "2025-03-27T02:31:51.657Z"
   },
   {
    "duration": 0,
    "start_time": "2025-03-27T02:31:51.658Z"
   },
   {
    "duration": 0,
    "start_time": "2025-03-27T02:31:51.659Z"
   },
   {
    "duration": 119,
    "start_time": "2025-03-27T02:32:23.817Z"
   },
   {
    "duration": 49,
    "start_time": "2025-03-27T02:32:24.206Z"
   },
   {
    "duration": 51,
    "start_time": "2025-03-27T02:32:33.728Z"
   },
   {
    "duration": 7,
    "start_time": "2025-03-27T02:32:34.927Z"
   },
   {
    "duration": 2127,
    "start_time": "2025-03-27T02:32:42.343Z"
   },
   {
    "duration": 133,
    "start_time": "2025-03-27T02:43:11.117Z"
   },
   {
    "duration": 221,
    "start_time": "2025-03-27T02:49:15.672Z"
   },
   {
    "duration": 221,
    "start_time": "2025-03-27T02:50:30.847Z"
   },
   {
    "duration": 188,
    "start_time": "2025-03-27T02:56:23.691Z"
   },
   {
    "duration": 223,
    "start_time": "2025-03-27T02:56:39.783Z"
   },
   {
    "duration": 101,
    "start_time": "2025-03-27T02:59:04.179Z"
   },
   {
    "duration": 418,
    "start_time": "2025-03-27T02:59:20.590Z"
   },
   {
    "duration": 113,
    "start_time": "2025-03-27T02:59:31.616Z"
   },
   {
    "duration": 118,
    "start_time": "2025-03-27T02:59:41.882Z"
   },
   {
    "duration": 419,
    "start_time": "2025-03-27T02:59:46.668Z"
   },
   {
    "duration": 1497,
    "start_time": "2025-03-27T09:39:25.485Z"
   },
   {
    "duration": 11,
    "start_time": "2025-03-27T09:39:26.984Z"
   },
   {
    "duration": 91,
    "start_time": "2025-03-27T09:39:26.997Z"
   },
   {
    "duration": 114,
    "start_time": "2025-03-27T09:39:27.091Z"
   },
   {
    "duration": 64,
    "start_time": "2025-03-27T09:39:27.207Z"
   },
   {
    "duration": 12,
    "start_time": "2025-03-27T09:39:27.273Z"
   },
   {
    "duration": 5,
    "start_time": "2025-03-27T09:39:27.288Z"
   },
   {
    "duration": 9,
    "start_time": "2025-03-27T09:39:27.294Z"
   },
   {
    "duration": 14,
    "start_time": "2025-03-27T09:39:27.305Z"
   },
   {
    "duration": 49,
    "start_time": "2025-03-27T09:39:27.321Z"
   },
   {
    "duration": 20,
    "start_time": "2025-03-27T09:39:27.372Z"
   },
   {
    "duration": 2457,
    "start_time": "2025-03-27T09:39:27.394Z"
   },
   {
    "duration": 995,
    "start_time": "2025-03-27T09:39:29.853Z"
   },
   {
    "duration": 64,
    "start_time": "2025-03-27T09:39:30.850Z"
   },
   {
    "duration": 5,
    "start_time": "2025-03-27T09:39:30.916Z"
   },
   {
    "duration": 8,
    "start_time": "2025-03-27T09:39:30.923Z"
   },
   {
    "duration": 3,
    "start_time": "2025-03-27T09:39:30.932Z"
   },
   {
    "duration": 4,
    "start_time": "2025-03-27T09:39:30.936Z"
   },
   {
    "duration": 30,
    "start_time": "2025-03-27T09:39:30.942Z"
   },
   {
    "duration": 10,
    "start_time": "2025-03-27T09:39:30.973Z"
   },
   {
    "duration": 571,
    "start_time": "2025-03-27T09:39:30.985Z"
   },
   {
    "duration": 0,
    "start_time": "2025-03-27T09:39:31.558Z"
   },
   {
    "duration": 0,
    "start_time": "2025-03-27T09:39:31.559Z"
   },
   {
    "duration": 0,
    "start_time": "2025-03-27T09:39:31.570Z"
   },
   {
    "duration": 0,
    "start_time": "2025-03-27T09:39:31.571Z"
   },
   {
    "duration": 0,
    "start_time": "2025-03-27T09:39:31.572Z"
   },
   {
    "duration": 0,
    "start_time": "2025-03-27T09:39:31.572Z"
   },
   {
    "duration": 0,
    "start_time": "2025-03-27T09:39:31.574Z"
   },
   {
    "duration": 0,
    "start_time": "2025-03-27T09:39:31.575Z"
   },
   {
    "duration": 0,
    "start_time": "2025-03-27T09:39:31.576Z"
   },
   {
    "duration": 0,
    "start_time": "2025-03-27T09:39:31.577Z"
   },
   {
    "duration": 0,
    "start_time": "2025-03-27T09:39:31.578Z"
   },
   {
    "duration": 0,
    "start_time": "2025-03-27T09:39:31.579Z"
   },
   {
    "duration": 0,
    "start_time": "2025-03-27T09:39:31.580Z"
   },
   {
    "duration": 170,
    "start_time": "2025-03-28T00:38:43.320Z"
   },
   {
    "duration": 1516,
    "start_time": "2025-03-28T00:38:56.510Z"
   },
   {
    "duration": 10,
    "start_time": "2025-03-28T00:38:58.028Z"
   },
   {
    "duration": 83,
    "start_time": "2025-03-28T00:38:58.039Z"
   },
   {
    "duration": 117,
    "start_time": "2025-03-28T00:38:58.125Z"
   },
   {
    "duration": 61,
    "start_time": "2025-03-28T00:38:58.245Z"
   },
   {
    "duration": 13,
    "start_time": "2025-03-28T00:38:59.625Z"
   },
   {
    "duration": 6,
    "start_time": "2025-03-28T00:38:59.899Z"
   },
   {
    "duration": 11,
    "start_time": "2025-03-28T00:39:00.262Z"
   },
   {
    "duration": 16,
    "start_time": "2025-03-28T00:39:00.575Z"
   },
   {
    "duration": 23,
    "start_time": "2025-03-28T00:39:01.474Z"
   },
   {
    "duration": 21,
    "start_time": "2025-03-28T00:39:02.774Z"
   },
   {
    "duration": 2426,
    "start_time": "2025-03-28T00:39:04.401Z"
   },
   {
    "duration": 939,
    "start_time": "2025-03-28T00:39:06.829Z"
   },
   {
    "duration": 63,
    "start_time": "2025-03-28T00:39:07.770Z"
   },
   {
    "duration": 6,
    "start_time": "2025-03-28T00:39:07.835Z"
   },
   {
    "duration": 10,
    "start_time": "2025-03-28T00:39:07.842Z"
   },
   {
    "duration": 2,
    "start_time": "2025-03-28T00:39:07.921Z"
   },
   {
    "duration": 4,
    "start_time": "2025-03-28T00:39:08.500Z"
   },
   {
    "duration": 6,
    "start_time": "2025-03-28T00:39:09.897Z"
   },
   {
    "duration": 11,
    "start_time": "2025-03-28T00:39:11.016Z"
   },
   {
    "duration": 10,
    "start_time": "2025-03-28T00:39:11.382Z"
   },
   {
    "duration": 5,
    "start_time": "2025-03-28T00:39:29.220Z"
   },
   {
    "duration": 1309,
    "start_time": "2025-03-28T08:10:57.950Z"
   },
   {
    "duration": 11,
    "start_time": "2025-03-28T08:10:59.261Z"
   },
   {
    "duration": 76,
    "start_time": "2025-03-28T08:10:59.275Z"
   },
   {
    "duration": 102,
    "start_time": "2025-03-28T08:10:59.354Z"
   },
   {
    "duration": 60,
    "start_time": "2025-03-28T08:10:59.458Z"
   },
   {
    "duration": 13,
    "start_time": "2025-03-28T08:10:59.520Z"
   },
   {
    "duration": 5,
    "start_time": "2025-03-28T08:10:59.535Z"
   },
   {
    "duration": 9,
    "start_time": "2025-03-28T08:10:59.542Z"
   },
   {
    "duration": 14,
    "start_time": "2025-03-28T08:10:59.553Z"
   },
   {
    "duration": 50,
    "start_time": "2025-03-28T08:10:59.570Z"
   },
   {
    "duration": 19,
    "start_time": "2025-03-28T08:10:59.622Z"
   },
   {
    "duration": 2469,
    "start_time": "2025-03-28T08:10:59.643Z"
   },
   {
    "duration": 963,
    "start_time": "2025-03-28T08:11:02.115Z"
   },
   {
    "duration": 66,
    "start_time": "2025-03-28T08:11:03.081Z"
   },
   {
    "duration": 6,
    "start_time": "2025-03-28T08:11:03.149Z"
   },
   {
    "duration": 7,
    "start_time": "2025-03-28T08:11:03.157Z"
   },
   {
    "duration": 2,
    "start_time": "2025-03-28T08:11:03.166Z"
   },
   {
    "duration": 5,
    "start_time": "2025-03-28T08:11:03.170Z"
   },
   {
    "duration": 31,
    "start_time": "2025-03-28T08:11:03.176Z"
   },
   {
    "duration": 10,
    "start_time": "2025-03-28T08:11:03.209Z"
   },
   {
    "duration": 9,
    "start_time": "2025-03-28T08:11:03.221Z"
   },
   {
    "duration": 502,
    "start_time": "2025-03-28T08:11:03.231Z"
   },
   {
    "duration": 113,
    "start_time": "2025-03-28T08:11:03.735Z"
   },
   {
    "duration": 7,
    "start_time": "2025-03-28T08:11:03.906Z"
   },
   {
    "duration": 603,
    "start_time": "2025-03-28T08:11:03.914Z"
   },
   {
    "duration": 285,
    "start_time": "2025-03-28T08:11:04.520Z"
   },
   {
    "duration": 440,
    "start_time": "2025-03-28T08:11:04.808Z"
   },
   {
    "duration": 207,
    "start_time": "2025-03-28T08:11:05.253Z"
   },
   {
    "duration": 152,
    "start_time": "2025-03-28T08:11:05.462Z"
   },
   {
    "duration": 105,
    "start_time": "2025-03-28T08:11:05.616Z"
   },
   {
    "duration": 473,
    "start_time": "2025-03-28T08:11:05.724Z"
   },
   {
    "duration": 121,
    "start_time": "2025-03-28T08:11:06.199Z"
   },
   {
    "duration": 125,
    "start_time": "2025-03-28T08:11:06.322Z"
   },
   {
    "duration": 457,
    "start_time": "2025-03-28T08:11:06.449Z"
   },
   {
    "duration": 54,
    "start_time": "2025-03-28T08:12:29.463Z"
   },
   {
    "duration": 1566,
    "start_time": "2025-04-23T21:57:37.587Z"
   },
   {
    "duration": 10,
    "start_time": "2025-04-23T21:57:39.155Z"
   },
   {
    "duration": 86,
    "start_time": "2025-04-23T21:57:39.166Z"
   },
   {
    "duration": 104,
    "start_time": "2025-04-23T21:57:39.254Z"
   },
   {
    "duration": 51,
    "start_time": "2025-04-23T21:57:39.360Z"
   },
   {
    "duration": 29,
    "start_time": "2025-04-23T21:57:39.413Z"
   },
   {
    "duration": 6,
    "start_time": "2025-04-23T21:57:39.444Z"
   },
   {
    "duration": 10,
    "start_time": "2025-04-23T21:57:39.451Z"
   },
   {
    "duration": 14,
    "start_time": "2025-04-23T21:57:39.463Z"
   },
   {
    "duration": 18,
    "start_time": "2025-04-23T21:57:39.480Z"
   },
   {
    "duration": 48,
    "start_time": "2025-04-23T21:57:39.500Z"
   },
   {
    "duration": 2466,
    "start_time": "2025-04-23T21:57:39.550Z"
   },
   {
    "duration": 914,
    "start_time": "2025-04-23T21:57:42.018Z"
   },
   {
    "duration": 53,
    "start_time": "2025-04-23T21:57:42.934Z"
   },
   {
    "duration": 6,
    "start_time": "2025-04-23T21:57:42.988Z"
   },
   {
    "duration": 7,
    "start_time": "2025-04-23T21:57:42.996Z"
   },
   {
    "duration": 3,
    "start_time": "2025-04-23T21:57:43.004Z"
   },
   {
    "duration": 27,
    "start_time": "2025-04-23T21:57:43.008Z"
   },
   {
    "duration": 6,
    "start_time": "2025-04-23T21:57:43.037Z"
   },
   {
    "duration": 10,
    "start_time": "2025-04-23T21:57:43.045Z"
   },
   {
    "duration": 9,
    "start_time": "2025-04-23T21:57:43.056Z"
   },
   {
    "duration": 153,
    "start_time": "2025-04-23T21:57:43.067Z"
   },
   {
    "duration": 57,
    "start_time": "2025-04-23T21:57:43.222Z"
   },
   {
    "duration": 6,
    "start_time": "2025-04-23T21:57:43.281Z"
   },
   {
    "duration": 385,
    "start_time": "2025-04-23T21:57:43.288Z"
   },
   {
    "duration": 156,
    "start_time": "2025-04-23T21:57:43.675Z"
   },
   {
    "duration": 245,
    "start_time": "2025-04-23T21:57:43.833Z"
   },
   {
    "duration": 205,
    "start_time": "2025-04-23T21:57:44.082Z"
   },
   {
    "duration": 155,
    "start_time": "2025-04-23T21:57:44.289Z"
   },
   {
    "duration": 101,
    "start_time": "2025-04-23T21:57:44.446Z"
   },
   {
    "duration": 451,
    "start_time": "2025-04-23T21:57:44.549Z"
   },
   {
    "duration": 119,
    "start_time": "2025-04-23T21:57:45.001Z"
   },
   {
    "duration": 128,
    "start_time": "2025-04-23T21:57:45.122Z"
   },
   {
    "duration": 452,
    "start_time": "2025-04-23T21:57:45.253Z"
   }
  ],
  "kernelspec": {
   "display_name": "Python 3 (ipykernel)",
   "language": "python",
   "name": "python3"
  },
  "language_info": {
   "codemirror_mode": {
    "name": "ipython",
    "version": 3
   },
   "file_extension": ".py",
   "mimetype": "text/x-python",
   "name": "python",
   "nbconvert_exporter": "python",
   "pygments_lexer": "ipython3",
   "version": "3.13.3"
  },
  "toc": {
   "base_numbering": 1,
   "nav_menu": {},
   "number_sections": true,
   "sideBar": true,
   "skip_h1_title": true,
   "title_cell": "Table of Contents",
   "title_sidebar": "Contents",
   "toc_cell": false,
   "toc_position": {},
   "toc_section_display": true,
   "toc_window_display": true
  },
  "vscode": {
   "interpreter": {
    "hash": "01a7be9ec63e704a62cefc5fe7a4756944464ee731be31632bdf42a4cb4688cf"
   }
  }
 },
 "nbformat": 4,
 "nbformat_minor": 5
}
